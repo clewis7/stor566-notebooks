{
 "cells": [
  {
   "cell_type": "markdown",
   "id": "13ca9c14-6722-4502-b26b-f3dccab0a3cf",
   "metadata": {},
   "source": [
    "## Problem 1 (40 points)\n",
    "\n",
    "In this problem you will practice implementing Variational Auto-Encoder (VAE) on MNIST data set.\n",
    "\n",
    "**Data.** You will use MNIST digit classification dataset. Pytorch/torchvision has provide a useful dataloader to automatically download and load the data into batches. Code of the data loader has been provided in the template. Please don't modify the data loading part."
   ]
  },
  {
   "cell_type": "code",
   "execution_count": null,
   "id": "ae490e19-ff45-40d2-858b-9ce24c432f9e",
   "metadata": {},
   "outputs": [],
   "source": [
    "import time\n",
    "import torch\n",
    "import torch.nn as nn\n",
    "import torch.optim as optim\n",
    "import torch.nn.functional as F\n",
    "import numpy as np\n",
    "import torch.utils.data as td\n",
    "import random, time\n",
    "import matplotlib.pyplot as plt\n",
    "import torchvision\n",
    "import PIL.Image as Image\n",
    "import ignite.distributed as idist\n",
    "from ignite.engine import Engine, Events\n",
    "from ignite.metrics import FID, InceptionScore\n",
    "from torchvision import datasets, transforms\n",
    "device = torch.device(\"cuda\") if torch.cuda.is_available() else torch.device(\"cpu\")"
   ]
  },
  {
   "cell_type": "code",
   "execution_count": null,
   "id": "1d8a08d7-8724-48fb-a678-9a5970feedbb",
   "metadata": {},
   "outputs": [],
   "source": [
    "## Data loading code chunk, please don't modify it. \n",
    "## However, you can adjust the batch size if you want to.\n",
    "batch_size = 128\n",
    "\n",
    "def mnist_loaders(batch_size): \n",
    "    data_dir = './data'\n",
    "    train_data = datasets.MNIST(data_dir, train=True, download=True,\n",
    "                      transform=transforms.Compose([\n",
    "                          transforms.ToTensor(),\n",
    "                          transforms.Normalize((0.1307,), (0.3081,))\n",
    "                      ]))\n",
    "    # Once you have downloaded the data by setting download=True, you can\n",
    "    # change download=True to download=False\n",
    "    test_data = datasets.MNIST(data_dir, train=False, download=False,\n",
    "                      transform=transforms.Compose([\n",
    "                          transforms.ToTensor(),\n",
    "                          transforms.Normalize((0.1307,), (0.3081,))\n",
    "                      ]))\n",
    "    train_loader = torch.utils.data.DataLoader(train_data,batch_size=batch_size, \n",
    "      shuffle=True)\n",
    "    test_loader = torch.utils.data.DataLoader(test_data,batch_size=batch_size, \n",
    "      shuffle=False)\n",
    "    return train_loader, test_loader\n",
    "\n",
    "train_mnist_loader, test_mnist_loader = mnist_loaders(batch_size)"
   ]
  },
  {
   "cell_type": "markdown",
   "id": "79e20ebd-fc7c-4e5f-afbc-058517979f77",
   "metadata": {},
   "source": [
    "### **Problem Description.** Implement **VAE** with Pytorch on MNIST.\n",
    "\n",
    "### (a) (5 points) Print the model architecture."
   ]
  },
  {
   "cell_type": "code",
   "execution_count": null,
   "id": "e1e848d2-a027-4f57-b49f-e01dbfa36986",
   "metadata": {},
   "outputs": [],
   "source": []
  },
  {
   "cell_type": "markdown",
   "id": "0466756c-1da3-44b4-a47e-0df9d6efbe2d",
   "metadata": {},
   "source": [
    "### (b) (5 points) Report the hyper-parameters (number of epochs, learning rate, momentum, weight_decay etc)."
   ]
  },
  {
   "cell_type": "code",
   "execution_count": null,
   "id": "68d28f3f-f2fe-43f3-918f-b41ecc2702c6",
   "metadata": {},
   "outputs": [],
   "source": []
  },
  {
   "cell_type": "markdown",
   "id": "d73473a8-15df-4dfb-a855-15a1cfa0283f",
   "metadata": {},
   "source": [
    "### (c) (20 points) Report the **VAE Loss** after every training epoch by generating Loss vs. Epoch plot. Please report at least **10** epochs."
   ]
  },
  {
   "cell_type": "code",
   "execution_count": null,
   "id": "46148084-fbd8-4f24-8d4a-b1567105939a",
   "metadata": {},
   "outputs": [],
   "source": []
  },
  {
   "cell_type": "markdown",
   "id": "6c1001c0-11b3-4826-a921-5269d48910ef",
   "metadata": {},
   "source": [
    "### (d) (10 points) Please apply the trained VAE model on a batch (128) of test samples and visualize both the test samples and reconstructed samples. Do the reconstructed samples look good?"
   ]
  },
  {
   "cell_type": "code",
   "execution_count": null,
   "id": "a814f272-f064-472c-96b2-aa17947d0a31",
   "metadata": {},
   "outputs": [],
   "source": []
  },
  {
   "cell_type": "markdown",
   "id": "3fb87a17-955e-464f-9d30-1696031a2216",
   "metadata": {},
   "source": [
    "## Problem 2 (60 points)\n",
    "\n",
    "In this problem you will practice implementing DC-GAN on CIFAR10 data set.\n",
    "\n",
    "**Data.** You will use CIFAR10 classification dataset (10 classes). Pytorch/torchvision has provide a useful dataloader to automatically download and load the data into batches. Code of the data loader has been provided in the template. Please don't modify the data loading part."
   ]
  },
  {
   "cell_type": "code",
   "execution_count": null,
   "id": "19863013-64e3-4bea-b925-51c4332387b0",
   "metadata": {},
   "outputs": [],
   "source": [
    "## Data loading code chunk, please don't modify it. \n",
    "## However, you can adjust the batch size if you want to.\n",
    "batch_size_cifar = 64\n",
    "\n",
    "def cifar_loaders(batch_size, shuffle_test=False): \n",
    "    data_dir = './data'\n",
    "    normalize = transforms.Normalize(mean=[0.485, 0.456, 0.406],\n",
    "                                     std=[0.225, 0.225, 0.225])\n",
    "    train = datasets.CIFAR10(data_dir, train=True, download=True, \n",
    "        transform=transforms.Compose([\n",
    "            transforms.RandomHorizontalFlip(),\n",
    "            transforms.RandomCrop(32, 4),\n",
    "            transforms.ToTensor(),\n",
    "            normalize,\n",
    "        ]))\n",
    "    # Once you have downloaded the data by setting download=True, you can\n",
    "    # change download=True to download=False\n",
    "    test = datasets.CIFAR10(data_dir, train=False, \n",
    "        transform=transforms.Compose([transforms.ToTensor(), normalize]))\n",
    "    train_loader = torch.utils.data.DataLoader(train, batch_size=batch_size,\n",
    "        shuffle=True, pin_memory=True)\n",
    "    test_loader = torch.utils.data.DataLoader(test, batch_size=batch_size,\n",
    "        shuffle=shuffle_test, pin_memory=True)\n",
    "    return train_loader, test_loader\n",
    "\n",
    "train_cifar_loader, test_cifar_loader = cifar_loaders(batch_size_cifar)"
   ]
  },
  {
   "cell_type": "markdown",
   "id": "f50e24d0-2160-4bd5-b1a3-5c02d1e06c9c",
   "metadata": {},
   "source": [
    "### **Problem Description.** Implement **DC-GAN** with Pytorch on CIFAR10.\n",
    "\n",
    "### (a) (5 points) Print the model architecture (discriminator and generator)."
   ]
  },
  {
   "cell_type": "code",
   "execution_count": null,
   "id": "cccd18b0-9162-42a2-8d7c-1b3acb322b23",
   "metadata": {},
   "outputs": [],
   "source": []
  },
  {
   "cell_type": "markdown",
   "id": "bf64fcaf-95ef-4da2-9c7f-a956d82385c7",
   "metadata": {},
   "source": [
    "### (b) (20 points) Report the **Generator Loss** and **Discriminator Loss** after every training epoch by generating Loss vs. Epoch plot. Please report at least **10** epochs and include two curves in the same plot with legend."
   ]
  },
  {
   "cell_type": "code",
   "execution_count": null,
   "id": "2a677a07-fcb4-43eb-98e3-aa7b0fd5e740",
   "metadata": {},
   "outputs": [],
   "source": []
  },
  {
   "cell_type": "markdown",
   "id": "5c208ead-4fc3-47ba-99dc-7ca9e24b070b",
   "metadata": {},
   "source": [
    "### (c) (10 points) Please use the trained DC-GAN model to generate a batch (64) new samples and visualize the generated samples. How do they look? Do they look like real samples?"
   ]
  },
  {
   "cell_type": "code",
   "execution_count": null,
   "id": "b42fd423-e468-40b3-b560-c0a72cd2f9d9",
   "metadata": {},
   "outputs": [],
   "source": []
  },
  {
   "cell_type": "markdown",
   "id": "c0255322-c424-4ded-b188-25ae1eb0c106",
   "metadata": {},
   "source": [
    "### (d) (25 points) Please evaluate the trained DC-GAN model using Fréchet Inception Distance (FID) and Inception Score (IS) on the testset. "
   ]
  },
  {
   "cell_type": "code",
   "execution_count": null,
   "id": "24b6dfdb-bfe1-421b-bdbc-bc11c49715ca",
   "metadata": {},
   "outputs": [],
   "source": []
  }
 ],
 "metadata": {
  "kernelspec": {
   "display_name": "Python 3 (ipykernel)",
   "language": "python",
   "name": "python3"
  },
  "language_info": {
   "codemirror_mode": {
    "name": "ipython",
    "version": 3
   },
   "file_extension": ".py",
   "mimetype": "text/x-python",
   "name": "python",
   "nbconvert_exporter": "python",
   "pygments_lexer": "ipython3",
   "version": "3.9.2"
  }
 },
 "nbformat": 4,
 "nbformat_minor": 5
}

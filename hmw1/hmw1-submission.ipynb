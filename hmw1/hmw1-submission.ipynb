{
 "cells": [
  {
   "cell_type": "code",
   "execution_count": 1,
   "id": "aac8de45-8dc0-4231-8ff5-b5f80a60afff",
   "metadata": {},
   "outputs": [],
   "source": [
    "import numpy as np"
   ]
  },
  {
   "cell_type": "markdown",
   "id": "d056e81d-e652-45a9-8902-1ecd35af3617",
   "metadata": {},
   "source": [
    "# Problem 1: Prove whether the following functions are convex or not.\n",
    "(a.)"
   ]
  },
  {
   "cell_type": "code",
   "execution_count": null,
   "id": "139b3214-8b1c-4f1d-9a4c-bb054034e4bf",
   "metadata": {},
   "outputs": [],
   "source": []
  },
  {
   "cell_type": "markdown",
   "id": "ad7d190b-680c-413e-8078-9ab265423afa",
   "metadata": {},
   "source": [
    "(b.)"
   ]
  },
  {
   "cell_type": "code",
   "execution_count": null,
   "id": "6dc6c6f1-c684-4cc4-8753-91deeee64839",
   "metadata": {},
   "outputs": [],
   "source": []
  },
  {
   "cell_type": "markdown",
   "id": "064ed4c8-b939-40cc-adac-6ae83b30ef06",
   "metadata": {},
   "source": [
    "# Problem 2: Identify stationary points."
   ]
  },
  {
   "cell_type": "markdown",
   "id": "7e264e8a-d26d-49c0-9c77-934bc91a604a",
   "metadata": {},
   "source": []
  },
  {
   "cell_type": "code",
   "execution_count": null,
   "id": "0c3a7156-c63a-4141-b382-9bbc7b60ee5c",
   "metadata": {},
   "outputs": [],
   "source": []
  },
  {
   "cell_type": "markdown",
   "id": "0727bdd1-9e70-4a0f-be4e-9113d6c1e4a4",
   "metadata": {},
   "source": [
    "# Problem 3:"
   ]
  },
  {
   "cell_type": "code",
   "execution_count": 2,
   "id": "04a3d003-43e1-4bb8-9741-d1f9fd9843d5",
   "metadata": {},
   "outputs": [],
   "source": [
    "X_heart = np.loadtxt('/home/clewis7/repos/stor566-notebooks/hmw1/HW1/hw1_data/X_heart')\n",
    "y_heart = np.loadtxt('/home/clewis7/repos/stor566-notebooks/hmw1/HW1/hw1_data/y_heart')\n",
    "y_epsilons = np.loadtxt('/home/clewis7/repos/stor566-notebooks/hmw1/HW1/hw1_data/y_epsilonsubset')"
   ]
  },
  {
   "cell_type": "markdown",
   "id": "dd3533d8-90c9-45ec-9ec5-d1dde99234ee",
   "metadata": {},
   "source": [
    "(a.) Compute the gradient of f(w) w.r.t w"
   ]
  },
  {
   "cell_type": "markdown",
   "id": "5711798c-01be-40dc-a906-094ac8149d80",
   "metadata": {},
   "source": [
    "(b.)"
   ]
  },
  {
   "cell_type": "code",
   "execution_count": 70,
   "id": "ac9b6158-8e11-4681-b157-d37ed03158e2",
   "metadata": {},
   "outputs": [],
   "source": [
    "def get_gradient(inputs, outputs, weights): \n",
    "    N = inputs.shape[0]\n",
    "    summed = 0\n",
    "    i = 0;\n",
    "    for i in range(270):\n",
    "        numerator = np.inner(outputs[i], inputs[i])\n",
    "        denominator = 1 + np.exp(np.inner(np.inner(outputs[i], weights.T), inputs[i]))\n",
    "        summed += (numerator / denominator)\n",
    "        i += 1\n",
    "    return ((-1/N)*summed) + weights"
   ]
  },
  {
   "cell_type": "code",
   "execution_count": 71,
   "id": "8f9f1224-75e0-4b6b-b5a3-25202371efca",
   "metadata": {},
   "outputs": [],
   "source": [
    "# what one step would look like\n",
    "weights = np.ones(13,)\n",
    "gradient = get_gradient(X_heart, y_heart, weights)\n",
    "new_weights = weights - (0.05*gradient)"
   ]
  },
  {
   "cell_type": "code",
   "execution_count": 72,
   "id": "a98db0df-cf91-4245-8f6e-80803568f181",
   "metadata": {},
   "outputs": [
    {
     "data": {
      "text/plain": [
       "array([0.989812  , 0.91035872, 0.88347504, 1.05226997, 1.07088846,\n",
       "       1.17841771, 1.030824  , 0.99296678, 1.04583797, 1.10093331,\n",
       "       1.06646291, 1.06226594, 0.97773412])"
      ]
     },
     "execution_count": 72,
     "metadata": {},
     "output_type": "execute_result"
    }
   ],
   "source": [
    "gradient"
   ]
  },
  {
   "cell_type": "code",
   "execution_count": 7,
   "id": "03ea87ac-ad56-41bd-897e-403fd97608d1",
   "metadata": {},
   "outputs": [
    {
     "data": {
      "text/plain": [
       "array([0.9505094 , 0.95448206, 0.95582625, 0.9473865 , 0.94645558,\n",
       "       0.94107911, 0.9484588 , 0.95035166, 0.9477081 , 0.94495333,\n",
       "       0.94667685, 0.9468867 , 0.95111329])"
      ]
     },
     "execution_count": 7,
     "metadata": {},
     "output_type": "execute_result"
    }
   ],
   "source": [
    "new_weights"
   ]
  },
  {
   "cell_type": "markdown",
   "id": "eed5b812-0c0f-454b-bb15-51cf527acff4",
   "metadata": {},
   "source": [
    "Find small (eta1) such that the algorithm converges.\n",
    "(eta1) = 0.8"
   ]
  },
  {
   "cell_type": "code",
   "execution_count": 121,
   "id": "bf091008-5ad5-487e-8787-689645c11fb2",
   "metadata": {},
   "outputs": [],
   "source": [
    "# 50 iteration with stepsize 0.8 shows convergence \n",
    "eta1_weights = np.ones(13,)\n",
    "iter_weights1 = list()\n",
    "iter_weights1.append(eta1_weights)\n",
    "step_size = 0.1\n",
    "eta1_gradients = list()\n",
    "i = 0\n",
    "while i < 50:\n",
    "    gradient = get_gradient(X_heart, y_heart, eta1_weights)\n",
    "    eta1_gradients.append(gradient)\n",
    "    eta1_weights = eta1_weights - (step_size*gradient)\n",
    "    iter_weights1.append(eta1_weights)\n",
    "    i += 1"
   ]
  },
  {
   "cell_type": "markdown",
   "id": "25c45b37-20aa-4d84-a4b2-fcfd8040c1a9",
   "metadata": {},
   "source": [
    "Increase step size to (eta2) so the algorithm cannot converge.\n",
    "(eta2) = "
   ]
  },
  {
   "cell_type": "code",
   "execution_count": 130,
   "id": "2d642528-cdc1-4fae-bcee-b4d74c0cf0f2",
   "metadata": {},
   "outputs": [],
   "source": [
    "# bigger step size for 50 iterations that does not converge\n",
    "eta2_weights = np.ones(13,)\n",
    "iter_weights2 = list()\n",
    "iter_weights2.append(eta2_weights)\n",
    "step_size = 2\n",
    "eta2_gradients = list()\n",
    "i = 0\n",
    "while i < 50:\n",
    "    gradient = get_gradient(X_heart, y_heart, eta2_weights)\n",
    "    eta2_gradients.append(gradient)\n",
    "    eta2_weights = eta2_weights - (step_size*gradient)\n",
    "    iter_weights2.append(eta2_weights)\n",
    "    i += 1"
   ]
  },
  {
   "cell_type": "markdown",
   "id": "ae8768a8-2b95-4f66-a7fc-185942d36dc2",
   "metadata": {},
   "source": [
    "Plot the iteration vs log(f(xk)-f(x*)) for both eta1 and eta2"
   ]
  },
  {
   "cell_type": "code",
   "execution_count": 132,
   "id": "17591bff-968d-4304-a653-079e329ee24c",
   "metadata": {},
   "outputs": [],
   "source": [
    "def func_eval(inputs, outputs, weights):\n",
    "    n = inputs.shape[0]\n",
    "    summation = 0\n",
    "    for i in range(n):\n",
    "        exponential = np.exp(-np.inner(np.inner(outputs[i], weights.T), inputs[i]))\n",
    "        summation += np.log(1 + exponential)\n",
    "    summation = summation / n\n",
    "    return summation + np.inner(weights.T, weights) * 0.5"
   ]
  },
  {
   "cell_type": "code",
   "execution_count": 133,
   "id": "5324024c-0407-4376-94d9-0a1f9553b012",
   "metadata": {},
   "outputs": [],
   "source": [
    "eta1_losses = list()\n",
    "for i in range(50):\n",
    "    eta1_losses.append(func_eval(X_heart, y_heart, iter_weights1[i]))"
   ]
  },
  {
   "cell_type": "code",
   "execution_count": 134,
   "id": "73be2158-7554-4874-842e-b459d59942f6",
   "metadata": {},
   "outputs": [],
   "source": [
    "eta2_losses = list()\n",
    "for i in range(50):\n",
    "    eta2_losses.append(func_eval(X_heart, y_heart, iter_weights2[i]))"
   ]
  },
  {
   "cell_type": "code",
   "execution_count": 137,
   "id": "790a2c80-89ae-48ef-abf7-3010dc84642f",
   "metadata": {},
   "outputs": [
    {
     "data": {
      "text/plain": [
       "[<matplotlib.lines.Line2D at 0x7fb034f555b0>]"
      ]
     },
     "execution_count": 137,
     "metadata": {},
     "output_type": "execute_result"
    },
    {
     "data": {
      "image/png": "[encoded data removed]",
      "text/plain": [
       "<Figure size 640x480 with 1 Axes>"
      ]
     },
     "metadata": {},
     "output_type": "display_data"
    }
   ],
   "source": [
    "from matplotlib import pyplot as plt\n",
    "plt.plot(eta1_losses)"
   ]
  },
  {
   "cell_type": "code",
   "execution_count": 138,
   "id": "0b2528a3-7b8f-4150-a4c4-64df8c1d8624",
   "metadata": {},
   "outputs": [
    {
     "data": {
      "text/plain": [
       "[<matplotlib.lines.Line2D at 0x7fb035040310>]"
      ]
     },
     "execution_count": 138,
     "metadata": {},
     "output_type": "execute_result"
    },
    {
     "data": {
      "image/png": "[encoded data removed]",
      "text/plain": [
       "<Figure size 640x480 with 1 Axes>"
      ]
     },
     "metadata": {},
     "output_type": "display_data"
    }
   ],
   "source": [
    "plt.plot(eta2_losses)"
   ]
  },
  {
   "cell_type": "markdown",
   "id": "41514a25-a821-4a3d-bfd0-a0d93dcefb86",
   "metadata": {},
   "source": [
    "(c.)"
   ]
  },
  {
   "cell_type": "markdown",
   "id": "c884a663-b9d1-4954-91ba-0123dc1f532f",
   "metadata": {},
   "source": [
    "Initialize the weights w0\n",
    "For each iteration...\n",
    "    * compute the gradient\n",
    "    * divide stepsize by two each time\n",
    "        break if\n",
    "    * update the weights\n",
    "return final solution w "
   ]
  },
  {
   "cell_type": "markdown",
   "id": "b929c4d5-563c-47e0-85c4-891476ec41cf",
   "metadata": {},
   "source": [
    "(d.)"
   ]
  },
  {
   "cell_type": "code",
   "execution_count": null,
   "id": "0908553c-2b46-45ea-aeb5-5b72160b3c49",
   "metadata": {},
   "outputs": [],
   "source": [
    "# implement gd w backtracking line search\n",
    "# use get_gradient function\n",
    "# write checker function"
   ]
  },
  {
   "cell_type": "code",
   "execution_count": 142,
   "id": "1200fc25-e83c-4058-b4e7-bbfdd0c8584e",
   "metadata": {},
   "outputs": [],
   "source": [
    "def check_conditions(weights, sigma, step_size):\n",
    "    gradient = get_gradient(X_heart, y_heart, weights)\n",
    "    first_loss = func_eval(X_heart, y_heart, weights)\n",
    "    if func_eval(X_heart, y_heart, weights + (step_size * gradient)) <= first_loss + (sigma*step_size*np.inner(func_eval(X_heart, y_heart, weights).T,gradient)):\n",
    "        return weights + step_size*gradient\n",
    "    else:\n",
    "        weights = weights - (step_size * gradient)\n",
    "        check_conditions(weights, sigma, step_size/2)"
   ]
  },
  {
   "cell_type": "code",
   "execution_count": 143,
   "id": "2d7c8b46-67d5-4cd6-8fff-bd06080acdce",
   "metadata": {},
   "outputs": [
    {
     "ename": "ValueError",
     "evalue": "The truth value of an array with more than one element is ambiguous. Use a.any() or a.all()",
     "output_type": "error",
     "traceback": [
      "\u001b[0;31m---------------------------------------------------------------------------\u001b[0m",
      "\u001b[0;31mValueError\u001b[0m                                Traceback (most recent call last)",
      "Input \u001b[0;32mIn [143]\u001b[0m, in \u001b[0;36m<cell line: 2>\u001b[0;34m()\u001b[0m\n\u001b[1;32m      1\u001b[0m weights \u001b[38;5;241m=\u001b[39m np\u001b[38;5;241m.\u001b[39mones(\u001b[38;5;241m13\u001b[39m,)\n\u001b[0;32m----> 2\u001b[0m \u001b[43mcheck_conditions\u001b[49m\u001b[43m(\u001b[49m\u001b[43mweights\u001b[49m\u001b[43m,\u001b[49m\u001b[43m \u001b[49m\u001b[38;5;241;43m0.01\u001b[39;49m\u001b[43m,\u001b[49m\u001b[43m \u001b[49m\u001b[38;5;241;43m0.8\u001b[39;49m\u001b[43m)\u001b[49m\n",
      "Input \u001b[0;32mIn [142]\u001b[0m, in \u001b[0;36mcheck_conditions\u001b[0;34m(weights, sigma, step_size)\u001b[0m\n\u001b[1;32m      2\u001b[0m gradient \u001b[38;5;241m=\u001b[39m get_gradient(X_heart, y_heart, weights)\n\u001b[1;32m      3\u001b[0m first_loss \u001b[38;5;241m=\u001b[39m func_eval(X_heart, y_heart, weights)\n\u001b[0;32m----> 4\u001b[0m \u001b[38;5;28;01mif\u001b[39;00m func_eval(X_heart, y_heart, weights \u001b[38;5;241m+\u001b[39m (step_size \u001b[38;5;241m*\u001b[39m gradient)) \u001b[38;5;241m<\u001b[39m\u001b[38;5;241m=\u001b[39m first_loss \u001b[38;5;241m+\u001b[39m (sigma\u001b[38;5;241m*\u001b[39mstep_size\u001b[38;5;241m*\u001b[39mnp\u001b[38;5;241m.\u001b[39minner(func_eval(X_heart, y_heart, weights)\u001b[38;5;241m.\u001b[39mT,gradient)):\n\u001b[1;32m      5\u001b[0m     \u001b[38;5;28;01mreturn\u001b[39;00m weights \u001b[38;5;241m+\u001b[39m step_size\u001b[38;5;241m*\u001b[39mgradient\n\u001b[1;32m      6\u001b[0m \u001b[38;5;28;01melse\u001b[39;00m:\n",
      "\u001b[0;31mValueError\u001b[0m: The truth value of an array with more than one element is ambiguous. Use a.any() or a.all()"
     ]
    }
   ],
   "source": [
    "weights = np.ones(13,)\n",
    "check_conditions(weights, 0.01, 0.8)"
   ]
  },
  {
   "cell_type": "markdown",
   "id": "ff4f4435-0381-4c74-ad7d-22e1df24dac6",
   "metadata": {},
   "source": [
    "(e.)\n",
    "test implementation on epsilon subset\n",
    "plot iteration by error plot"
   ]
  }
 ],
 "metadata": {
  "kernelspec": {
   "display_name": "Python 3 (ipykernel)",
   "language": "python",
   "name": "python3"
  },
  "language_info": {
   "codemirror_mode": {
    "name": "ipython",
    "version": 3
   },
   "file_extension": ".py",
   "mimetype": "text/x-python",
   "name": "python",
   "nbconvert_exporter": "python",
   "pygments_lexer": "ipython3",
   "version": "3.9.2"
  }
 },
 "nbformat": 4,
 "nbformat_minor": 5
}

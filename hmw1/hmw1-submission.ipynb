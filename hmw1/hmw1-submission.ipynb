{
 "cells": [
  {
   "cell_type": "code",
   "execution_count": null,
   "id": "aac8de45-8dc0-4231-8ff5-b5f80a60afff",
   "metadata": {},
   "outputs": [],
   "source": [
    "import numpy as np"
   ]
  },
  {
   "cell_type": "markdown",
   "id": "d056e81d-e652-45a9-8902-1ecd35af3617",
   "metadata": {},
   "source": [
    "# Problem 1: Prove whether the following functions are convex or not.\n",
    "(a.)"
   ]
  },
  {
   "cell_type": "code",
   "execution_count": null,
   "id": "139b3214-8b1c-4f1d-9a4c-bb054034e4bf",
   "metadata": {},
   "outputs": [],
   "source": []
  },
  {
   "cell_type": "markdown",
   "id": "ad7d190b-680c-413e-8078-9ab265423afa",
   "metadata": {},
   "source": [
    "(b.)"
   ]
  },
  {
   "cell_type": "code",
   "execution_count": null,
   "id": "6dc6c6f1-c684-4cc4-8753-91deeee64839",
   "metadata": {},
   "outputs": [],
   "source": []
  },
  {
   "cell_type": "markdown",
   "id": "064ed4c8-b939-40cc-adac-6ae83b30ef06",
   "metadata": {},
   "source": [
    "# Problem 2: Identify stationary points."
   ]
  },
  {
   "cell_type": "code",
   "execution_count": null,
   "id": "0c3a7156-c63a-4141-b382-9bbc7b60ee5c",
   "metadata": {},
   "outputs": [],
   "source": []
  },
  {
   "cell_type": "markdown",
   "id": "0727bdd1-9e70-4a0f-be4e-9113d6c1e4a4",
   "metadata": {},
   "source": [
    "# Problem 3:"
   ]
  },
  {
   "cell_type": "code",
   "execution_count": null,
   "id": "04a3d003-43e1-4bb8-9741-d1f9fd9843d5",
   "metadata": {},
   "outputs": [],
   "source": []
  }
 ],
 "metadata": {
  "kernelspec": {
   "display_name": "Python 3 (ipykernel)",
   "language": "python",
   "name": "python3"
  },
  "language_info": {
   "codemirror_mode": {
    "name": "ipython",
    "version": 3
   },
   "file_extension": ".py",
   "mimetype": "text/x-python",
   "name": "python",
   "nbconvert_exporter": "python",
   "pygments_lexer": "ipython3",
   "version": "3.9.2"
  }
 },
 "nbformat": 4,
 "nbformat_minor": 5
}

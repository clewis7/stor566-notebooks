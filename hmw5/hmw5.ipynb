{
 "cells": [
  {
   "cell_type": "markdown",
   "id": "1bd12dbf-9790-4997-b2e2-82a20329d20d",
   "metadata": {},
   "source": [
    "# STOR 566, Homework 5\n",
    "### Instructor: Yao Li\n",
    "### Keywords: Adversarial Robustness\n",
    "### Due date: Oct 30, 11:55pm\n",
    "### **Submission Instruction**\n",
    "\n",
    "- Please download this script and use it to answer the questions in the homework. \n",
    "- For submission, please include your code, code output and answers in the script and submit the ipynb file on sakai.\n",
    "- Please don't modify existing cells. But you can add cells between the exercise statements.\n",
    "- To make markdown, please switch the cell type to markdown (from code) - you can hit 'm' when you are in command mode - and use the markdown language. For a brief tutorial see: https://daringfireball.net/projects/markdown/syntax\n",
    "\n",
    "### **References:**\n",
    "\n",
    "- You can follow the setup instructions at [here](https://pytorch.org/get-started/locally/).\n",
    "- A useful tutorial on learning pytorch by examples at [here](https://pytorch.org/tutorials/beginner/pytorch_with_examples.html).\n",
    "- Check Pytorch optimization methods at [here](https://pytorch.org/docs/stable/optim.html).\n",
    "- Check implementation of different attack methods at [here](https://github.com/Harry24k/adversarial-attacks-pytorch) for reference. \n",
    "\n",
    "\n",
    "### **Method Review**\n",
    "\n",
    "- PGD: L-infinity norm restricted attack\n",
    "\t\\begin{align}\n",
    "\tx^{t+1}=\\Pi_{\\epsilon}\\{x^t+\\alpha\\cdot\\text{sign}(\\nabla_xL(\\theta,x,y)),x_0\\}\n",
    "\t\\end{align}\t\n",
    "    - $x^{t+1}$: the adversarial example generated from step t+1\n",
    "    - $\\epsilon$: epsilon, which controls the perturbation\n",
    "    - $\\Pi_\\epsilon$: project the input to the epsilon-ball around $x_0$\n",
    "    - $\\alpha$: step size\n",
    "    - $\\text{sign}(\\nabla_xL(\\theta,x,y))$: sign of gradient\n",
    "    - Don't forget to project $x^{t+1}$ to the valid pixel value range. If you don't modify the data loader, the valid pixel value range is $[0,1]$.\n",
    "\n",
    "- C&W: L-2 norm targeted attack\n",
    "\t\\begin{align}\n",
    "\tx^{*}=\\arg\\min_{x}\\|x-x_0\\|^2+\\lambda\\cdot\\max\\{\\max_{j\\ne t}f_j(x)-f_t(x),\\kappa\\}\n",
    "\t\\end{align}\t\n",
    "    - $x^{*}$: the adversarial example\n",
    "    - $\\lambda$: parameter that controls the balance between distortion and the attack success. \n",
    "    - $f_j(x)$: the logits (predicted score) of class j\n",
    "    - $t$: the target class\n",
    "    - $\\kappa$: confidence\n",
    "    - Don't forget to project the $x^{*}$ to $[0,1]$.\n",
    "\n",
    "- Adversarial training\n",
    "\t\\begin{align}\n",
    "\t\\arg\\min_\\theta E_{(x,y)\\sim D}\\{\\max_{\\|\\delta\\|\\le\\epsilon}L(\\theta,x+\\delta,y)\\}\n",
    "\t\\end{align}\t\n",
    "    - $\\theta$: model parameters\n",
    "    - $D$: clean data distribution\n",
    "    - $\\delta$: adversarial perturbation\n",
    "    - For each batch, generate adversarial examples based on the batch of samples, then update the model with adversarial examples \n",
    "    \n",
    "### **Evaluation Metrics:**\n",
    "\n",
    "- Testing accuracy: \n",
    "\t\\begin{align}\n",
    "\t\\frac{1}{N}\\sum_{i=1}^N {\\bf 1}(\\hat{y}_i=y_i)\n",
    "\t\\end{align}\t\n",
    "    - $N$: the total number of samples in the testing set\n",
    "    - $y_i$: true label of sample $x_i$\n",
    "    - $\\hat{y}_i$: predicted label by the model\n",
    "\n",
    "- Robust Testing Accuracy: testing accuracy on adversarial examples\n",
    "\n",
    "\t\\begin{align}\n",
    "\t\\frac{1}{N}\\sum_{i=1}^N {\\bf 1}(c(x^*_i)=y_i)\n",
    "\t\\end{align}\t\n",
    "    - $N$: the total number of samples in the testing set\n",
    "    - $x^*_i$: adversarial example generated from $x_i$\n",
    "    - $c(\\cdot)$: returns the label predicted by the model\n",
    "    - $c(x^*_i)$: predicted label of adversarial example by the model\n",
    "    - $y_i$: true label of sample $x_i$"
   ]
  },
  {
   "cell_type": "markdown",
   "id": "26ebc752-b1d6-4296-857c-5821fcfbed56",
   "metadata": {},
   "source": [
    "## Problem 1 (50 points)\n",
    "\n",
    "In this problem you will practice implementing **PGD attack** and **targetted C&W attack** on CIFAR10 data set.\n",
    "\n",
    "**Data.** You will use CIFAR10 classification dataset (10 classes). Pytorch/torchvision has provide a useful dataloader to automatically download and load the data into batches. Code of the data loader has been provided in the template. Please don't modify the data loading part."
   ]
  },
  {
   "cell_type": "code",
   "execution_count": 1,
   "id": "26e66d9d-cf5c-472d-a117-36ebb9620553",
   "metadata": {},
   "outputs": [],
   "source": [
    "import time\n",
    "import copy\n",
    "import torch\n",
    "import torch.nn as nn\n",
    "import torch.optim as optim\n",
    "import torch.nn.functional as F\n",
    "import numpy as np\n",
    "import torch.utils.data as td\n",
    "import random, time\n",
    "import matplotlib.pyplot as plt\n",
    "import torchvision\n",
    "import PIL.Image as Image\n",
    "from tqdm import tqdm\n",
    "from torch.autograd import Variable\n",
    "from torchvision import datasets, transforms\n",
    "from torch.utils.data.sampler import SubsetRandomSampler\n",
    "device = torch.device(\"cuda\") if torch.cuda.is_available() else torch.device(\"cpu\")"
   ]
  },
  {
   "cell_type": "code",
   "execution_count": 2,
   "id": "777b1275-5527-45e3-9fdf-f55cac4679c1",
   "metadata": {},
   "outputs": [
    {
     "name": "stdout",
     "output_type": "stream",
     "text": [
      "Downloading https://www.cs.toronto.edu/~kriz/cifar-10-python.tar.gz to ./data/cifar-10-python.tar.gz\n"
     ]
    },
    {
     "data": {
      "application/json": {
       "ascii": false,
       "bar_format": null,
       "colour": null,
       "elapsed": 0.018806934356689453,
       "initial": 0,
       "n": 0,
       "ncols": null,
       "nrows": 24,
       "postfix": null,
       "prefix": "",
       "rate": null,
       "total": 170498071,
       "unit": "it",
       "unit_divisor": 1000,
       "unit_scale": false
      },
      "application/vnd.jupyter.widget-view+json": {
       "model_id": "86aaa7509e634ebe8ae570d4e110115e",
       "version_major": 2,
       "version_minor": 0
      },
      "text/plain": [
       "  0%|          | 0/170498071 [00:00<?, ?it/s]"
      ]
     },
     "metadata": {},
     "output_type": "display_data"
    },
    {
     "name": "stdout",
     "output_type": "stream",
     "text": [
      "Extracting ./data/cifar-10-python.tar.gz to ./data\n"
     ]
    }
   ],
   "source": [
    "## Data loading code chunk, please don't modify it. \n",
    "## However, you can adjust the batch size if you want to.\n",
    "batch_size_cifar = 128\n",
    "\n",
    "def cifar_loaders(batch_size, shuffle_test=False): \n",
    "    data_dir = './data'\n",
    "    train = datasets.CIFAR10(data_dir, train=True, download=True, \n",
    "        transform=transforms.Compose([\n",
    "            transforms.ToTensor(),\n",
    "        ]))\n",
    "    # Once you have downloaded the data by setting download=True, you can\n",
    "    # change download=True to download=False\n",
    "    test = datasets.CIFAR10(data_dir, train=False, \n",
    "        transform=transforms.Compose([transforms.ToTensor()]))\n",
    "    train_loader = torch.utils.data.DataLoader(train, batch_size=batch_size,\n",
    "        shuffle=True, pin_memory=True)\n",
    "    test_loader = torch.utils.data.DataLoader(test, batch_size=batch_size,\n",
    "        shuffle=shuffle_test, pin_memory=True)\n",
    "    return train_loader, test_loader\n",
    "\n",
    "train_cifar_loader, test_cifar_loader = cifar_loaders(batch_size_cifar)\n",
    "\n",
    "# Get the loader that only loads class 0 image (for question 1.d)\n",
    "def subset_loaders(batch_size=128): \n",
    "    data_dir = './data'\n",
    "    test = datasets.CIFAR10(data_dir, train=False, \n",
    "        transform=transforms.Compose([transforms.ToTensor()]))\n",
    "    subset_indices = (torch.tensor(test.targets) == 0).nonzero()\n",
    "    test_loader = torch.utils.data.DataLoader(test,batch_size=batch_size, \n",
    "          shuffle=False,sampler=SubsetRandomSampler(subset_indices))\n",
    "    return test_loader\n",
    "\n",
    "sub_loader = subset_loaders()"
   ]
  },
  {
   "cell_type": "code",
   "execution_count": 3,
   "id": "85ad6739-949e-4303-814b-276a3f1b6d8d",
   "metadata": {},
   "outputs": [
    {
     "data": {
      "text/plain": [
       "VGG(\n",
       "  (features): Sequential(\n",
       "    (0): Conv2d(3, 64, kernel_size=(3, 3), stride=(1, 1), padding=(1, 1))\n",
       "    (1): BatchNorm2d(64, eps=1e-05, momentum=0.1, affine=True, track_running_stats=True)\n",
       "    (2): ReLU(inplace=True)\n",
       "    (3): MaxPool2d(kernel_size=2, stride=2, padding=0, dilation=1, ceil_mode=False)\n",
       "    (4): Conv2d(64, 128, kernel_size=(3, 3), stride=(1, 1), padding=(1, 1))\n",
       "    (5): BatchNorm2d(128, eps=1e-05, momentum=0.1, affine=True, track_running_stats=True)\n",
       "    (6): ReLU(inplace=True)\n",
       "    (7): MaxPool2d(kernel_size=2, stride=2, padding=0, dilation=1, ceil_mode=False)\n",
       "    (8): Conv2d(128, 256, kernel_size=(3, 3), stride=(1, 1), padding=(1, 1))\n",
       "    (9): BatchNorm2d(256, eps=1e-05, momentum=0.1, affine=True, track_running_stats=True)\n",
       "    (10): ReLU(inplace=True)\n",
       "    (11): Conv2d(256, 256, kernel_size=(3, 3), stride=(1, 1), padding=(1, 1))\n",
       "    (12): BatchNorm2d(256, eps=1e-05, momentum=0.1, affine=True, track_running_stats=True)\n",
       "    (13): ReLU(inplace=True)\n",
       "    (14): MaxPool2d(kernel_size=2, stride=2, padding=0, dilation=1, ceil_mode=False)\n",
       "    (15): Conv2d(256, 512, kernel_size=(3, 3), stride=(1, 1), padding=(1, 1))\n",
       "    (16): BatchNorm2d(512, eps=1e-05, momentum=0.1, affine=True, track_running_stats=True)\n",
       "    (17): ReLU(inplace=True)\n",
       "    (18): Conv2d(512, 512, kernel_size=(3, 3), stride=(1, 1), padding=(1, 1))\n",
       "    (19): BatchNorm2d(512, eps=1e-05, momentum=0.1, affine=True, track_running_stats=True)\n",
       "    (20): ReLU(inplace=True)\n",
       "    (21): MaxPool2d(kernel_size=2, stride=2, padding=0, dilation=1, ceil_mode=False)\n",
       "    (22): Conv2d(512, 512, kernel_size=(3, 3), stride=(1, 1), padding=(1, 1))\n",
       "    (23): BatchNorm2d(512, eps=1e-05, momentum=0.1, affine=True, track_running_stats=True)\n",
       "    (24): ReLU(inplace=True)\n",
       "    (25): Conv2d(512, 512, kernel_size=(3, 3), stride=(1, 1), padding=(1, 1))\n",
       "    (26): BatchNorm2d(512, eps=1e-05, momentum=0.1, affine=True, track_running_stats=True)\n",
       "    (27): ReLU(inplace=True)\n",
       "    (28): MaxPool2d(kernel_size=2, stride=2, padding=0, dilation=1, ceil_mode=False)\n",
       "  )\n",
       "  (avgpool): AdaptiveAvgPool2d(output_size=(1, 1))\n",
       "  (classifier): Sequential(\n",
       "    (0): Linear(in_features=512, out_features=4096, bias=True)\n",
       "    (1): ReLU(inplace=True)\n",
       "    (2): Dropout(p=0.5, inplace=False)\n",
       "    (3): Linear(in_features=4096, out_features=4096, bias=True)\n",
       "    (4): ReLU(inplace=True)\n",
       "    (5): Dropout(p=0.5, inplace=False)\n",
       "    (6): Linear(in_features=4096, out_features=10, bias=True)\n",
       "  )\n",
       ")"
      ]
     },
     "execution_count": 3,
     "metadata": {},
     "output_type": "execute_result"
    }
   ],
   "source": [
    "## Load the pre-trained VGG11bn model\n",
    "## For this step, you need to put the vgg.py and vgg11_bn.pt under your working directory\n",
    "## See vgg.py and vgg11_bn.pt and under the shared google drive folder of HW5 from the course website\n",
    "## The model is from https://github.com/huyvnphan/PyTorch_CIFAR10\n",
    "from vgg import vgg11_bn\n",
    "vgg11 = vgg11_bn()\n",
    "vgg11.load_state_dict(torch.load('vgg11_bn.pt'))\n",
    "vgg11.to(device)"
   ]
  },
  {
   "cell_type": "markdown",
   "id": "608213cb-c362-4657-ac32-a81c9a4dd42d",
   "metadata": {},
   "source": [
    "### **Problem Description.** Generate adversarial examples on CIFAR10 using PGD and C&W.\n",
    "\n",
    "### (a) (5 points) Check the testing accuracy of the pre-trained VGG11 model on the test set of CIFAR10. The expected testing accuracy is 92.39%. "
   ]
  },
  {
   "cell_type": "code",
   "execution_count": null,
   "id": "c75f2430-a521-4cf2-bff9-b55e2f6b4703",
   "metadata": {},
   "outputs": [],
   "source": [
    "# testing accuracy like normal\n"
   ]
  },
  {
   "cell_type": "markdown",
   "id": "e04798d0-bc31-42ec-a0fa-4d2e06dad622",
   "metadata": {},
   "source": [
    "### (b) (15 points) Implement PGD with L-infinity norm, epsilon=0.03, step size=0.01, max steps=20, to attack the pre-trained VGG11 and generate adversarial examples with the CIFAR10 test set. Report the robust testing accuracy."
   ]
  },
  {
   "cell_type": "code",
   "execution_count": null,
   "id": "fe421f3e-7418-42bd-968b-fca4761e0790",
   "metadata": {},
   "outputs": [],
   "source": [
    "# class PGD class\n",
    "# perturb function -> given original x and y return the perturbed x\n",
    "\n",
    "# X += sign(grad) ... \n",
    "\n",
    "# adversary arg in attack_over_() is a model instance of above"
   ]
  },
  {
   "cell_type": "code",
   "execution_count": null,
   "id": "372db6ed-dd78-4e39-98ac-b2c645df4c8e",
   "metadata": {},
   "outputs": [],
   "source": [
    "class PGDAttack(object):\n",
    "    def __init__(self, model=None, epsilon=0.03, steps=20, step_size=0.01):\n",
    "        self.model = model\n",
    "        self.epsilon = epsilon \n",
    "        self.steps =steps\n",
    "        self.step_size = step_size\n",
    "        self.cla_loss = nn.CrossEntropyLoss()\n",
    "    \n",
    "    def perturb(self, X_ori, y):\n",
    "        X = X_ori.clone()\n",
    "        y_var = y\n",
    "        for i in range(self.steps):\n",
    "            X_var = Variable(X, requires_grad=True)\n",
    "            outputs = self.model(X_var)\n",
    "            loss = self.cla_loss(outputs, y_var)\n",
    "            loss.backward()\n",
    "            ##grad:\n",
    "            ###X:\n",
    "            diff = X - X_ori\n",
    "            diff.clamp_(-self.epsilon, self.epsilon)\n",
    "            X.detach().copy_((diff+X_ori).clamp_(0, 1))\n",
    "        return X"
   ]
  },
  {
   "cell_type": "code",
   "execution_count": null,
   "id": "3852af5b-d9ab-45e7-85a0-158d0a2995a4",
   "metadata": {},
   "outputs": [],
   "source": [
    "def attack_over_test_data(model, adversary, test_loader):\n",
    "    adversary_model = model\n",
    "    total_correct = 0\n",
    "    total_samples = len(test_loader.dataset)\n",
    "    ntested = 0\n",
    "    \n",
    "    model.eval()\n",
    "    \n",
    "    pbar = tqdm(test_loader)\n",
    "    for X, y in pbar:\n",
    "        X, y = X.to(device), y.to(device)\n",
    "        ### X_adv using adversary.perturb\n",
    "        ### y_pred_adv\n",
    "        \n",
    "        ntested += y.size()[0]\n",
    "        total_correct += (y_pred_adv == y.data).sum()\n",
    "        \n",
    "    pbar.close()\n",
    "    acc = total_correct/total_samples\n",
    "    return acc\n",
    "    "
   ]
  },
  {
   "cell_type": "markdown",
   "id": "729b195d-12fd-4f34-b987-a90bf8e2873d",
   "metadata": {},
   "source": [
    "### (c) (5 points) Plot a batch of adversarial examples (PGD) and the corresponding test samples."
   ]
  },
  {
   "cell_type": "code",
   "execution_count": null,
   "id": "aa12ec11-980c-44c2-954a-a53ae06fe7de",
   "metadata": {},
   "outputs": [],
   "source": [
    "images, labels = images.to(device), labels.to(device)\n",
    "adversarial_examples = adversary.perturb(images,labels)"
   ]
  },
  {
   "cell_type": "code",
   "execution_count": null,
   "id": "6a632248-484f-4e06-aa5e-c7f66d13c4a7",
   "metadata": {},
   "outputs": [],
   "source": [
    "# plot original images:\n",
    "grid_img = torchvision.utils.make_grid(images.cpu(), nrows=16)\n",
    "plt.imshow(grid_img.permute(1,2,0))"
   ]
  },
  {
   "cell_type": "code",
   "execution_count": null,
   "id": "cac0dfcb-5b3e-4d63-b40b-48f8e6f70476",
   "metadata": {},
   "outputs": [],
   "source": [
    "# plot adversarial images:\n",
    "adv_img = torchvision.utils.make_grid(adversarial_examples.cpu(), nrows=16)\n",
    "plt.imshow(grid_img.permute(1,2,0))"
   ]
  },
  {
   "cell_type": "markdown",
   "id": "96294bb6-2dea-486b-91d4-d0892c423834",
   "metadata": {},
   "source": [
    "### (d) (25 points) Implement targeted C&W with L2 norm, lambda=1, confidence=0, max steps=50, using CIFAR10 class 0 test samples. The target class is class 1. Report the testing accuracy on the original class 0 samples, and the proportion of adversarial examples classified as class 1."
   ]
  },
  {
   "cell_type": "code",
   "execution_count": null,
   "id": "fe924aa2-72d2-411e-b35c-395ecfe7be4e",
   "metadata": {},
   "outputs": [],
   "source": [
    "class CWAttack(object):\n",
    "    def __init__(self, model=None, confidence=0, steps=50):\n",
    "        self.model=model\n",
    "        self.steps=steps\n",
    "        self.confidence = 0\n",
    "    \n",
    "    def f(self, outputs, target_labels):\n",
    "        ###\n",
    "    \n",
    "    def perturb(self, X_ori, y, target):\n",
    "        X = X_ori.clone()\n",
    "        X_adv = X.clone().zero().requires_grad_()\n",
    "        optimizer = optim.Adam([X_adv], lr=1.0e-2)\n",
    "        for _ in range(self.steps):\n",
    "            self.model.zero_grad()\n",
    "            optimizer.zero_grad()\n",
    "            diff = X_adv - X\n",
    "            output = self.model(X_adv)\n",
    "            error = torch.sum(diff * diff)\n",
    "            error += self.f(output, target_labels).sum()\n",
    "            error.backward()\n",
    "            optimizer.step()\n",
    "        X_adv = X_adv.clamp(0,1)"
   ]
  },
  {
   "cell_type": "code",
   "execution_count": null,
   "id": "23154bb7-d452-4605-b622-8cfd842c87ac",
   "metadata": {},
   "outputs": [],
   "source": [
    "def cw_test_target(model, test_loader, target_class):\n",
    "    model.eval()\n",
    "    cw = CWAttack(model=model, confidence=0, steps=50)\n",
    "    correct_cnt = 0\n",
    "    total_cnt = 0\n",
    "    for _, (x, labels) in enumerate(test_loader):\n",
    "        x, labels = x.to(device), labels.to(device)\n",
    "        ## target_labels = \n",
    "        ### get adv using cw.perturb\n",
    "        out = model(adv)\n",
    "        _, pred_label = torch.max(out.data, 1)\n",
    "        total_cnt += x.data.size()[0]\n",
    "        correct_cnt += (pred_label == target_labels.data).sum()\n",
    "    acr = float(correct_cnt.double()/total_cnt)\n",
    "    return acr"
   ]
  },
  {
   "cell_type": "code",
   "execution_count": null,
   "id": "d60cf664-3341-48c9-ad55-c0f4b5bcb6eb",
   "metadata": {},
   "outputs": [],
   "source": [
    "testClean(sub_loader, vgg11)"
   ]
  },
  {
   "cell_type": "code",
   "execution_count": null,
   "id": "1bcd4c47-c5c7-4821-988d-d10489c452da",
   "metadata": {},
   "outputs": [],
   "source": [
    "cw_acr = cw_test_target(vg11, sub_loader, target_class=1)"
   ]
  },
  {
   "cell_type": "markdown",
   "id": "a820a9bc-c85b-41d1-b299-b0c8c23e5d8f",
   "metadata": {},
   "source": [
    "## Problem 2 (50 points)\n",
    "\n",
    "In this problem you will practice implementing **adversarial training** on CIFAR10\n",
    "\n",
    "**Data.** You will use CIFAR10 classification dataset (10 classes). Pytorch/torchvision has provide a useful dataloader to automatically download and load the data into batches. Code of the data loader has been provided in the template. Please don't modify the data loading part."
   ]
  },
  {
   "cell_type": "markdown",
   "id": "9b70d617-fe30-4bc0-a396-75f01b11be88",
   "metadata": {},
   "source": [
    "### **Problem Description.** Implement **adversarial training** to train VGG11 on CIFAR10.\n",
    "\n",
    "### (a) (25 points) Implement adversarial training (generate PGD adversarial examples every iteration and train the model with adversarial examples) with PGD (L-infinity norm, epsilon=0.03, step size=0.01, max steps=7). You can initial the model with pre-trained VGG11. Do adversarial training for at least 10 epochs."
   ]
  },
  {
   "cell_type": "code",
   "execution_count": null,
   "id": "29f2631c-5aa7-42b8-a09c-c5483ab9fc9a",
   "metadata": {},
   "outputs": [],
   "source": [
    "def advtrain(model, train_loader):\n",
    "    model.train()\n",
    "    adversary = PGDAttack(epsilon=0.03, steps=8, step_size=0.01)\n",
    "    \n",
    "    optimizer = torch.optim.SGD(model.parameters(), lr=0.01, momentum=0.9, weight_decay=0.002)\n",
    "    criterion = nn.CrossEntropyLoss()\n",
    "    \n",
    "    total_loss = 0\n",
    "    batch_count = 0\n",
    "    correct = 0\n",
    "    correct_ori = 0\n",
    "    for epoch in range(30):\n",
    "        for x, y in tqdm(train_loader):\n",
    "            x,y = x.to(device), y.to(device)\n",
    "            outputs = model(x)\n",
    "            optimizer.zero_grad()\n",
    "            #adversarial training \n",
    "            ## attack using adversary.perturb \n",
    "            adv_outputs = model(adv)\n",
    "            loss = criterion(adv_outputs, y)\n",
    "            loss.backward()\n",
    "            optimizer.step()\n",
    "            total_loss += loss.item()\n",
    "            _, predicted = adv_outputs.max(1)\n",
    "            _, pred_ori = outputs.max(1)\n",
    "            \n",
    "            total += y.shape[0]\n",
    "            ## correct +=\n",
    "            ## correct_ori +=\n",
    "            batch_count += 1\n",
    "        epoch_avg_loss = total_loss / batch_count\n",
    "        acc = correct / total\n",
    "        acc_ori = correct_ori / total\n",
    "    \n",
    "    return model"
   ]
  },
  {
   "cell_type": "code",
   "execution_count": null,
   "id": "f5bdee63-56cd-4db3-80b0-f8ae7c21a471",
   "metadata": {},
   "outputs": [],
   "source": [
    "vgg11_adv = advtrain(vgg11, train_cifar_loader)"
   ]
  },
  {
   "cell_type": "markdown",
   "id": "f75d89fd-abc8-481e-b9ae-0fd6616f98df",
   "metadata": {},
   "source": [
    "### (b) (20 points) Implement PGD with L-infinity norm, epsilon=0.03, step size=0.01, max steps=20, to attack the **adversarially trained** VGG11 and generate adversarial examples with the CIFAR10 test set. Report the testing accuracy and robust testing accuracy of the **adversarially trained** VGG11 on CIFAR10 test set."
   ]
  },
  {
   "cell_type": "code",
   "execution_count": null,
   "id": "fa65ad4d-b4e4-4a6b-aa4b-0f8269f79944",
   "metadata": {},
   "outputs": [],
   "source": [
    "# testing accuracy\n",
    "testClean(test_cifar_loader, vgg11_adv)"
   ]
  },
  {
   "cell_type": "code",
   "execution_count": null,
   "id": "29bc3697-e941-4111-b58a-4e771cb9db2d",
   "metadata": {},
   "outputs": [],
   "source": [
    "# report the robust testing accuracy\n",
    "adversary = PGDAttack(vgg11_adv, adversary, test_cifar_loader)\n",
    "robust_acc = attack_over_test_data(vg11_adv, adversary, test_cifar_loader)"
   ]
  },
  {
   "cell_type": "markdown",
   "id": "c40568ea-4ed9-4e9d-b985-5ff89ec077eb",
   "metadata": {},
   "source": [
    "### (c) (5 points) Please compare the performance of the pre-trained VGG11 and the adversarially trained VGG11 against PGD attack."
   ]
  },
  {
   "cell_type": "code",
   "execution_count": null,
   "id": "3763ff31-3b6d-4400-af16-36d12a86acb0",
   "metadata": {},
   "outputs": [],
   "source": []
  }
 ],
 "metadata": {
  "kernelspec": {
   "display_name": "Python 3 (ipykernel)",
   "language": "python",
   "name": "python3"
  },
  "language_info": {
   "codemirror_mode": {
    "name": "ipython",
    "version": 3
   },
   "file_extension": ".py",
   "mimetype": "text/x-python",
   "name": "python",
   "nbconvert_exporter": "python",
   "pygments_lexer": "ipython3",
   "version": "3.9.2"
  }
 },
 "nbformat": 4,
 "nbformat_minor": 5
}

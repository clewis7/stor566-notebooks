{
 "cells": [
  {
   "cell_type": "markdown",
   "id": "7dfe0562-97ae-4cd2-9dcb-3ddccab718b7",
   "metadata": {},
   "source": [
    "# Hello World\n",
    "Intro to PyschRNN"
   ]
  },
  {
   "cell_type": "code",
   "execution_count": 1,
   "id": "447acb4b-8dd9-4119-8b3c-2945bcf268f6",
   "metadata": {},
   "outputs": [],
   "source": [
    "from matplotlib import pyplot as plt"
   ]
  },
  {
   "cell_type": "code",
   "execution_count": 2,
   "id": "511a63a6-d04b-462c-a9cf-696a1dbfa82c",
   "metadata": {},
   "outputs": [],
   "source": [
    "import os\n",
    "os.environ['TF_CPP_MIN_LOG_LEVEL'] = '2'"
   ]
  },
  {
   "cell_type": "code",
   "execution_count": 3,
   "id": "fe6a17a9-e0c4-413a-a157-ebe224ab094e",
   "metadata": {},
   "outputs": [
    {
     "name": "stderr",
     "output_type": "stream",
     "text": [
      "2022-11-12 13:25:08.329136: E tensorflow/stream_executor/cuda/cuda_blas.cc:2981] Unable to register cuBLAS factory: Attempting to register factory for plugin cuBLAS when one has already been registered\n"
     ]
    }
   ],
   "source": [
    "from psychrnn.tasks.perceptual_discrimination import PerceptualDiscrimination\n",
    "from psychrnn.backend.models.basic import Basic"
   ]
  },
  {
   "cell_type": "code",
   "execution_count": 4,
   "id": "3bb1941b-87fc-4fe5-a174-69cb1da5ff50",
   "metadata": {},
   "outputs": [],
   "source": [
    "pd = PerceptualDiscrimination(dt = 10, tau = 100, T = 2000, N_batch = 128)\n",
    "network_params = pd.get_task_params() # get the params passed in and defined in pd\n",
    "network_params['name'] = 'model' # name the model uniquely if running mult models in unison\n",
    "network_params['N_rec'] = 50 # set the number of recurrent units in the model\n",
    "model = Basic(network_params) # instantiate a basic vanilla RNN"
   ]
  },
  {
   "cell_type": "code",
   "execution_count": 5,
   "id": "09043389-a702-4b06-ba2b-8bb85ae9511d",
   "metadata": {},
   "outputs": [
    {
     "name": "stdout",
     "output_type": "stream",
     "text": [
      "Iter 1280, Minibatch Loss= 0.150667\n",
      "Iter 2560, Minibatch Loss= 0.087188\n",
      "Iter 3840, Minibatch Loss= 0.084433\n",
      "Iter 5120, Minibatch Loss= 0.081267\n",
      "Iter 6400, Minibatch Loss= 0.070446\n",
      "Iter 7680, Minibatch Loss= 0.041743\n",
      "Iter 8960, Minibatch Loss= 0.027034\n",
      "Iter 10240, Minibatch Loss= 0.018912\n",
      "Iter 11520, Minibatch Loss= 0.013813\n",
      "Iter 12800, Minibatch Loss= 0.013570\n",
      "Iter 14080, Minibatch Loss= 0.012743\n",
      "Iter 15360, Minibatch Loss= 0.010891\n",
      "Iter 16640, Minibatch Loss= 0.009284\n",
      "Iter 17920, Minibatch Loss= 0.007637\n",
      "Iter 19200, Minibatch Loss= 0.006617\n",
      "Iter 20480, Minibatch Loss= 0.006676\n",
      "Iter 21760, Minibatch Loss= 0.006940\n",
      "Iter 23040, Minibatch Loss= 0.006949\n",
      "Iter 24320, Minibatch Loss= 0.006130\n",
      "Iter 25600, Minibatch Loss= 0.005602\n",
      "Iter 26880, Minibatch Loss= 0.005037\n",
      "Iter 28160, Minibatch Loss= 0.005546\n",
      "Iter 29440, Minibatch Loss= 0.004758\n",
      "Iter 30720, Minibatch Loss= 0.004617\n",
      "Iter 32000, Minibatch Loss= 0.005070\n",
      "Iter 33280, Minibatch Loss= 0.004974\n",
      "Iter 34560, Minibatch Loss= 0.005047\n",
      "Iter 35840, Minibatch Loss= 0.004745\n",
      "Iter 37120, Minibatch Loss= 0.004723\n",
      "Iter 38400, Minibatch Loss= 0.004601\n",
      "Iter 39680, Minibatch Loss= 0.004147\n",
      "Iter 40960, Minibatch Loss= 0.004813\n",
      "Iter 42240, Minibatch Loss= 0.004451\n",
      "Iter 43520, Minibatch Loss= 0.004029\n",
      "Iter 44800, Minibatch Loss= 0.003890\n",
      "Iter 46080, Minibatch Loss= 0.003826\n",
      "Iter 47360, Minibatch Loss= 0.003910\n",
      "Iter 48640, Minibatch Loss= 0.004462\n",
      "Iter 49920, Minibatch Loss= 0.003633\n",
      "Optimization finished!\n"
     ]
    },
    {
     "data": {
      "text/plain": [
       "([0.1506668,\n",
       "  0.087188415,\n",
       "  0.084433466,\n",
       "  0.08126661,\n",
       "  0.07044632,\n",
       "  0.04174324,\n",
       "  0.027034044,\n",
       "  0.018911807,\n",
       "  0.013813071,\n",
       "  0.013569965,\n",
       "  0.012743,\n",
       "  0.010890551,\n",
       "  0.009284217,\n",
       "  0.007636689,\n",
       "  0.0066171954,\n",
       "  0.0066763293,\n",
       "  0.006939775,\n",
       "  0.006949406,\n",
       "  0.0061298036,\n",
       "  0.0056018,\n",
       "  0.0050368076,\n",
       "  0.0055462406,\n",
       "  0.0047577242,\n",
       "  0.0046172445,\n",
       "  0.00507022,\n",
       "  0.0049742986,\n",
       "  0.005047328,\n",
       "  0.0047450047,\n",
       "  0.004722679,\n",
       "  0.0046005095,\n",
       "  0.0041473117,\n",
       "  0.004812922,\n",
       "  0.0044507105,\n",
       "  0.0040285625,\n",
       "  0.0038899905,\n",
       "  0.0038259286,\n",
       "  0.003909638,\n",
       "  0.0044615185,\n",
       "  0.0036332149],\n",
       " 80.97880411148071,\n",
       " 4.861229181289673)"
      ]
     },
     "execution_count": 5,
     "metadata": {},
     "output_type": "execute_result"
    }
   ],
   "source": [
    "model.train(pd)"
   ]
  },
  {
   "cell_type": "code",
   "execution_count": 6,
   "id": "df5d01c3-b290-4374-89c2-8f037009bf88",
   "metadata": {},
   "outputs": [],
   "source": [
    "x,target_output,mask, trial_params = pd.get_trial_batch() # get pd task inputs and outputs\n",
    "model_output, model_state = model.test(x) # run the model on input x"
   ]
  },
  {
   "cell_type": "code",
   "execution_count": 7,
   "id": "a6e41ae4-ef2f-4fbf-9d4b-54efae706096",
   "metadata": {},
   "outputs": [
    {
     "data": {
      "text/plain": [
       "[<matplotlib.lines.Line2D at 0x7fa3d44f3c10>,\n",
       " <matplotlib.lines.Line2D at 0x7fa3d44f3ac0>]"
      ]
     },
     "execution_count": 7,
     "metadata": {},
     "output_type": "execute_result"
    },
    {
     "data": {
      "image/png": "[encoded data removed]",
      "text/plain": [
       "<Figure size 640x480 with 1 Axes>"
      ]
     },
     "metadata": {},
     "output_type": "display_data"
    }
   ],
   "source": [
    "plt.plot(model_output[0])"
   ]
  },
  {
   "cell_type": "code",
   "execution_count": 8,
   "id": "d5d05979-f871-4aa7-a131-fa87250cbbbd",
   "metadata": {},
   "outputs": [],
   "source": [
    "model.destruct()"
   ]
  },
  {
   "cell_type": "code",
   "execution_count": null,
   "id": "351c1972-3ac7-4b6d-9520-d079f52e4b6c",
   "metadata": {},
   "outputs": [],
   "source": []
  }
 ],
 "metadata": {
  "kernelspec": {
   "display_name": "Python 3 (ipykernel)",
   "language": "python",
   "name": "python3"
  },
  "language_info": {
   "codemirror_mode": {
    "name": "ipython",
    "version": 3
   },
   "file_extension": ".py",
   "mimetype": "text/x-python",
   "name": "python",
   "nbconvert_exporter": "python",
   "pygments_lexer": "ipython3",
   "version": "3.9.2"
  }
 },
 "nbformat": 4,
 "nbformat_minor": 5
}

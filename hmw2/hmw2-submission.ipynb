{
 "cells": [
  {
   "cell_type": "markdown",
   "id": "847ed006-0cab-4d89-b7fb-b627a75abaac",
   "metadata": {},
   "source": [
    "Downloading data:"
   ]
  },
  {
   "cell_type": "code",
   "execution_count": 1,
   "id": "cc91b919-b3dd-4b04-903c-903d9e6a9041",
   "metadata": {},
   "outputs": [],
   "source": [
    "batch_size = 200\n",
    "data_dir = '/home/clewis7/repos/stor566-notebooks/hmw2/hmw2-data/'\n",
    "\n",
    "import torch\n",
    "import torch.nn as nn\n",
    "import torch.optim as optim\n",
    "import torch.nn.functional as F\n",
    "import numpy as np\n",
    "import torch.utils.data as td\n",
    "import random, time\n",
    "import matplotlib.pyplot as plt\n",
    "from torchvision import datasets, transforms\n",
    "from torch.utils.data.sampler import SubsetRandomSampler\n",
    "\n",
    "## USE THIS SNIPPET TO GET BINARY TRAIN/TEST DATA\n",
    "\n",
    "train_data = datasets.MNIST(data_dir, train=True, download=False,\n",
    "                   transform=transforms.Compose([\n",
    "                       transforms.ToTensor(),\n",
    "                       transforms.Normalize((0.1307,), (0.3081,))\n",
    "                   ]))\n",
    "# Once you have downloaded the data by setting download=True, you can\n",
    "# change download=True to download=False\n",
    "test_data = datasets.MNIST(data_dir, train=False, download=False,\n",
    "                   transform=transforms.Compose([\n",
    "                       transforms.ToTensor(),\n",
    "                       transforms.Normalize((0.1307,), (0.3081,))\n",
    "                   ]))\n",
    "\n",
    "subset_indices = ((train_data.targets == 0) + (train_data.targets == 1)).nonzero()\n",
    "train_loader = torch.utils.data.DataLoader(train_data,batch_size=batch_size, \n",
    "  shuffle=False,sampler=SubsetRandomSampler(subset_indices.view(-1)))\n",
    "\n",
    "subset_indices = ((test_data.targets == 0) + (test_data.targets == 1)).nonzero()\n",
    "test_loader = torch.utils.data.DataLoader(test_data,batch_size=len(test_data), \n",
    "  shuffle=False,sampler=SubsetRandomSampler(subset_indices.view(-1)))"
   ]
  },
  {
   "cell_type": "code",
   "execution_count": 4,
   "id": "ae46d1d5-4a3c-490f-b599-a1fe6a643756",
   "metadata": {},
   "outputs": [],
   "source": [
    "class LogisticRegression(torch.nn.Module):\n",
    "     def __init__(self, input_dim, output_dim):\n",
    "         super(LogisticRegression, self).__init__()\n",
    "         self.linear = torch.nn.Linear(input_dim, output_dim)\n",
    "         self.linear.weight.data.fill_(1)\n",
    "            \n",
    "     def forward(self, x):\n",
    "         out = torch.sigmoid(self.linear(x))\n",
    "         return out"
   ]
  },
  {
   "cell_type": "code",
   "execution_count": 5,
   "id": "24a4cfdc-6e97-41c1-a68e-08dbc44a539c",
   "metadata": {},
   "outputs": [],
   "source": [
    "input_dim = 28*28\n",
    "output_dim = 1\n",
    "model = LogisticRegression(input_dim,output_dim)"
   ]
  },
  {
   "cell_type": "code",
   "execution_count": 6,
   "id": "4a4b31ee-0669-467b-8a13-27f5856fd8f9",
   "metadata": {},
   "outputs": [],
   "source": [
    "criterion = torch.nn.BCELoss()"
   ]
  },
  {
   "cell_type": "code",
   "execution_count": 7,
   "id": "72b03bf9-fc65-4d76-8342-6f3136d02932",
   "metadata": {},
   "outputs": [],
   "source": [
    "optimizer = torch.optim.SGD(model.parameters(), lr=0.05, momentum=0.9)"
   ]
  },
  {
   "cell_type": "code",
   "execution_count": 2,
   "id": "20ddab13-61d2-4ca2-8e36-9095f37a3435",
   "metadata": {},
   "outputs": [],
   "source": [
    "from tqdm import tqdm"
   ]
  },
  {
   "cell_type": "markdown",
   "id": "c10aa3d1-09bb-4067-977a-534ebb440307",
   "metadata": {},
   "source": [
    "epochs = iterations / (total data / batch size)"
   ]
  },
  {
   "cell_type": "code",
   "execution_count": 9,
   "id": "78735d4a-6661-44fb-a731-ea46627379fe",
   "metadata": {},
   "outputs": [
    {
     "name": "stderr",
     "output_type": "stream",
     "text": [
      "100%|███████████████████████████████████████████| 25/25 [00:24<00:00,  1.01it/s]\n"
     ]
    }
   ],
   "source": [
    "# The number of epochs is at least 10, you can increase it to achieve better performance\n",
    "num_epochs = 25\n",
    "\n",
    "avg_losses = list()\n",
    "\n",
    "# Training the Model\n",
    "for epoch in tqdm(range(num_epochs)):\n",
    "    batch_losses = list()\n",
    "    for i, (images, labels) in enumerate(train_loader):\n",
    "        # Convert the 28*28 image matrix into a 784-dim vector\n",
    "        images = images.view(-1, 28*28).requires_grad_()\n",
    "        labels = labels\n",
    "        # Convert labels from 0,1 to -1,1\n",
    "        #labels = 2*(labels.float()-0.5)\n",
    "        \n",
    "        # TODO \n",
    "        # 1. Compute Loss. Check torch functions for the corresponding loss for Logistic and SVM\n",
    "        optimizer.zero_grad()\n",
    "    \n",
    "        prediction = model.forward(images)\n",
    "        \n",
    "        batch_loss = criterion(prediction, labels.reshape(-1,1).to(torch.float32))\n",
    "        \n",
    "        batch_loss.backward()\n",
    "        \n",
    "        # 2. Do optimization. Check torch.optim to see how to do optimization with pytorch\n",
    "        optimizer.step()\n",
    "    \n",
    "        # 3. Save batch loss\n",
    "        batch_losses.append(batch_loss.detach().numpy())\n",
    "\n",
    "    # Save average epoch loss\n",
    "    avg_epoch_loss = (1 / batch_size) * np.sum(batch_losses)\n",
    "    avg_losses.append(avg_epoch_loss)\n",
    "    \n",
    "    \n",
    "    "
   ]
  },
  {
   "cell_type": "code",
   "execution_count": 10,
   "id": "e1e0cb0b-ab24-4db6-be88-fef556c01d6f",
   "metadata": {},
   "outputs": [
    {
     "data": {
      "text/plain": [
       "tensor(0., grad_fn=<BinaryCrossEntropyBackward0>)"
      ]
     },
     "execution_count": 10,
     "metadata": {},
     "output_type": "execute_result"
    }
   ],
   "source": [
    "batch_loss"
   ]
  },
  {
   "cell_type": "markdown",
   "id": "364d16d6-dca3-48eb-97e9-4c4a76f5ea22",
   "metadata": {},
   "source": [
    "### (a) (5 points) Report the hyper-parameters (number of epochs, learning rate, momentum etc)."
   ]
  },
  {
   "cell_type": "markdown",
   "id": "0335c2db-0030-40eb-9401-94dd4fb37d65",
   "metadata": {},
   "source": [
    "**Hyper-Parameters**\n",
    "\n",
    "Number of Epochs: 25\n",
    "\n",
    "Learning Rate: 0.01\n",
    "\n",
    "Momentum: 0.9"
   ]
  },
  {
   "cell_type": "markdown",
   "id": "91469008-1c0c-4d61-a740-8791de9d66db",
   "metadata": {},
   "source": [
    "### (b) (10 points) Report the **Average loss of an epoch** for every epoch by generating Average Loss vs. Epoch plot. Please report at least **10** epochs."
   ]
  },
  {
   "cell_type": "code",
   "execution_count": 11,
   "id": "29df3f16-a91d-4dbd-80de-97bdc38575a0",
   "metadata": {
    "tags": []
   },
   "outputs": [],
   "source": [
    "import matplotlib.pyplot as plt"
   ]
  },
  {
   "cell_type": "code",
   "execution_count": 12,
   "id": "9e9ee6b1-a314-4a9a-a8b1-c74a3b145dd4",
   "metadata": {},
   "outputs": [
    {
     "data": {
      "text/plain": [
       "Text(0, 0.5, 'Average Loss')"
      ]
     },
     "execution_count": 12,
     "metadata": {},
     "output_type": "execute_result"
    },
    {
     "data": {
      "image/png": "[encoded data removed]",
      "text/plain": [
       "<Figure size 640x480 with 1 Axes>"
      ]
     },
     "metadata": {},
     "output_type": "display_data"
    }
   ],
   "source": [
    "plt.plot(avg_losses)\n",
    "plt.xlabel(\"Epoch\")\n",
    "plt.ylabel(\"Average Loss\")"
   ]
  },
  {
   "cell_type": "markdown",
   "id": "3b7d5e28-0f86-40f4-9122-663cd7e48c0b",
   "metadata": {},
   "source": [
    "### (c) (5 points) Report the final testing accuracy of trained model."
   ]
  },
  {
   "cell_type": "code",
   "execution_count": 13,
   "id": "48345321-d287-43be-95aa-40c23bbe52c9",
   "metadata": {},
   "outputs": [],
   "source": [
    "correct = 0\n",
    "\n",
    "images, labels = next(iter(test_loader))\n",
    "\n",
    "outputs = model.forward(images.view(-1, 28*28))\n",
    "outputs = outputs.detach().numpy().astype(int).ravel()\n",
    "\n",
    "labels = labels.detach().numpy().astype(int)\n",
    "\n",
    "for output, label in zip(outputs, labels):\n",
    "    if output == label:\n",
    "        correct += 1\n",
    "\n",
    "accuracy = correct / len(labels)"
   ]
  },
  {
   "cell_type": "code",
   "execution_count": 14,
   "id": "64b1a2af-aa7e-47cd-a989-a72d201cb704",
   "metadata": {},
   "outputs": [
    {
     "data": {
      "text/plain": [
       "0.9985815602836879"
      ]
     },
     "execution_count": 14,
     "metadata": {},
     "output_type": "execute_result"
    }
   ],
   "source": [
    "accuracy"
   ]
  },
  {
   "cell_type": "code",
   "execution_count": 15,
   "id": "3f218e62-4550-45e7-a82a-948ec926f2f9",
   "metadata": {},
   "outputs": [],
   "source": [
    "import seaborn as sns"
   ]
  },
  {
   "cell_type": "code",
   "execution_count": 16,
   "id": "0500b726-0205-45db-a293-39b45a8dc755",
   "metadata": {},
   "outputs": [
    {
     "data": {
      "text/plain": [
       "torch.Size([1, 784])"
      ]
     },
     "execution_count": 16,
     "metadata": {},
     "output_type": "execute_result"
    }
   ],
   "source": [
    "list(model.parameters())[0].shape"
   ]
  },
  {
   "cell_type": "code",
   "execution_count": 17,
   "id": "836ba006-48dc-4c15-817c-29e47d216a23",
   "metadata": {},
   "outputs": [
    {
     "data": {
      "text/plain": [
       "<AxesSubplot:>"
      ]
     },
     "execution_count": 17,
     "metadata": {},
     "output_type": "execute_result"
    },
    {
     "data": {
      "image/png": "[encoded data removed]",
      "text/plain": [
       "<Figure size 640x480 with 2 Axes>"
      ]
     },
     "metadata": {},
     "output_type": "display_data"
    }
   ],
   "source": [
    "sns.heatmap(list(model.parameters())[0].data.detach().numpy().reshape(28,28))"
   ]
  },
  {
   "cell_type": "markdown",
   "id": "5697be98-880b-41ab-9b61-d9a77b453d62",
   "metadata": {},
   "source": [
    "### 2. (20 points) Implement **Linear SVM** with Pytorch to do handwritten digit 0 vs. 1 classification. Pick an optimizer yourself. "
   ]
  },
  {
   "cell_type": "markdown",
   "id": "ff748c57-fadb-476c-9d3b-2cc3166a778a",
   "metadata": {
    "tags": []
   },
   "source": [
    "### (a) (5 points) Report the hyper-parameters (number of epochs, learning rate, momentum etc)."
   ]
  },
  {
   "cell_type": "code",
   "execution_count": 18,
   "id": "2549fdab-e53c-4b04-adbf-6c80549fad23",
   "metadata": {},
   "outputs": [],
   "source": [
    "class LinearSVM(nn.Module):\n",
    "    def __init__(self, input_dim, output_dim):\n",
    "        super(LinearSVM, self).__init__()\n",
    "        self.linear = torch.nn.Linear(input_dim, output_dim)\n",
    "\n",
    "    def forward(self, x):\n",
    "        out = self.linear(x).clamp(-1,1)\n",
    "        return out"
   ]
  },
  {
   "cell_type": "code",
   "execution_count": 19,
   "id": "35b15bca-8386-4089-b200-4e585d59825f",
   "metadata": {},
   "outputs": [],
   "source": [
    "def hinge_loss(weights, prediction, actual):\n",
    "    \n",
    "    x = torch.max(torch.zeros(prediction.ravel().size()[0]),\n",
    "                  (1 - actual.ravel() * prediction.ravel())).mean()\n",
    "    \n",
    "    # l2norm = torch.inner(weights.ravel().T, weights.ravel()) / 2\n",
    "    \n",
    "    # loss = x + l2norm\n",
    "    \n",
    "    return x"
   ]
  },
  {
   "cell_type": "code",
   "execution_count": 20,
   "id": "575f51f1-4746-44bd-85da-8147e6497a1c",
   "metadata": {},
   "outputs": [],
   "source": [
    "input_dim = 28*28\n",
    "output_dim = 1\n",
    "model = LinearSVM(input_dim,output_dim)"
   ]
  },
  {
   "cell_type": "code",
   "execution_count": 21,
   "id": "d4fa4f40-ecc6-43a5-947b-9175230149f8",
   "metadata": {},
   "outputs": [],
   "source": [
    "optimizer = torch.optim.SGD(model.parameters(), lr=0.05, momentum=0.9)"
   ]
  },
  {
   "cell_type": "code",
   "execution_count": 22,
   "id": "d5602fa7-28a7-4163-8aac-addfa9093b74",
   "metadata": {},
   "outputs": [],
   "source": [
    "loss_func = hinge_loss"
   ]
  },
  {
   "cell_type": "code",
   "execution_count": 23,
   "id": "c172e4f9-cf10-41ed-8eec-66fb273416b3",
   "metadata": {},
   "outputs": [
    {
     "name": "stderr",
     "output_type": "stream",
     "text": [
      "100%|███████████████████████████████████████████| 25/25 [00:24<00:00,  1.01it/s]\n"
     ]
    }
   ],
   "source": [
    "# The number of epochs is at least 10, you can increase it to achieve better performance\n",
    "num_epochs = 25\n",
    "\n",
    "avg_losses = list()\n",
    "\n",
    "# Training the Model\n",
    "for epoch in tqdm(range(num_epochs)):\n",
    "    batch_losses = list()\n",
    "    for i, (images, labels) in enumerate(train_loader):\n",
    "        # Convert the 28*28 image matrix into a 784-dim vector\n",
    "        images = images.view(-1, 28*28)\n",
    "        # Convert labels from 0,1 to -1,1\n",
    "        labels = 2*(labels.float()-0.5)\n",
    "        \n",
    "        # TODO \n",
    "        # 1. Compute Loss. Check torch functions for the corresponding loss for Logistic and SVM\n",
    "        optimizer.zero_grad()\n",
    "    \n",
    "        prediction = model.forward(images)\n",
    "        weights = list(model.parameters())[0].data\n",
    "        \n",
    "        batch_loss = loss_func(weights, prediction, labels.reshape(-1,1).to(torch.float32))\n",
    "        \n",
    "        batch_loss.backward()\n",
    "        \n",
    "        # 2. Do optimization. Check torch.optim to see how to do optimization with pytorch\n",
    "        optimizer.step()\n",
    "    \n",
    "        # 3. Save batch loss\n",
    "        batch_losses.append(batch_loss.detach().numpy())\n",
    "\n",
    "    # Save average epoch loss\n",
    "    avg_epoch_loss = (1 / batch_size) * np.sum(batch_losses)\n",
    "    avg_losses.append(avg_epoch_loss)"
   ]
  },
  {
   "cell_type": "markdown",
   "id": "8a00406e-3e88-4ded-8ad6-21693ba8c821",
   "metadata": {
    "tags": []
   },
   "source": [
    "### (b) (10 points) Report the **Average loss of an epoch** for every epoch by generating Average Loss vs. Epoch plot. Please report at least **10** epochs."
   ]
  },
  {
   "cell_type": "code",
   "execution_count": 24,
   "id": "61ff35d0-46c5-413d-a470-c447ed22e218",
   "metadata": {},
   "outputs": [
    {
     "data": {
      "text/plain": [
       "Text(0, 0.5, 'Average Loss')"
      ]
     },
     "execution_count": 24,
     "metadata": {},
     "output_type": "execute_result"
    },
    {
     "data": {
      "image/png": "[encoded data removed]",
      "text/plain": [
       "<Figure size 640x480 with 1 Axes>"
      ]
     },
     "metadata": {},
     "output_type": "display_data"
    }
   ],
   "source": [
    "plt.plot(avg_losses)\n",
    "plt.xlabel(\"Epoch\")\n",
    "plt.ylabel(\"Average Loss\")"
   ]
  },
  {
   "cell_type": "markdown",
   "id": "ce8ab587-60d4-4912-8401-d51d0edb2b76",
   "metadata": {},
   "source": [
    "### (c) (5 points) Report the final testing accuracy of trained model."
   ]
  },
  {
   "cell_type": "code",
   "execution_count": 25,
   "id": "f8c90ac1-2b86-41c0-9cd9-8d3530b00b69",
   "metadata": {},
   "outputs": [],
   "source": [
    "correct = 0\n",
    "\n",
    "images, labels = next(iter(test_loader))\n",
    "\n",
    "outputs = model.forward(images.view(-1, 28*28))\n",
    "outputs = outputs.detach().numpy().astype(int).ravel()\n",
    "\n",
    "outputs[outputs < 0] = 0\n",
    "\n",
    "labels = labels.reshape(-1,1).to(torch.float32)\n",
    "labels = labels.detach().numpy().astype(int)\n",
    "\n",
    "for output, label in zip(outputs, labels):\n",
    "    if output == label:\n",
    "        correct += 1\n",
    "\n",
    "accuracy = correct / len(labels)"
   ]
  },
  {
   "cell_type": "code",
   "execution_count": 26,
   "id": "693f59c1-5aaa-4fba-9282-a8f2d366f413",
   "metadata": {},
   "outputs": [
    {
     "data": {
      "text/plain": [
       "0.9981087470449173"
      ]
     },
     "execution_count": 26,
     "metadata": {},
     "output_type": "execute_result"
    }
   ],
   "source": [
    "accuracy"
   ]
  },
  {
   "cell_type": "markdown",
   "id": "61859fa3-951f-4e03-aa34-fd5e6da40c83",
   "metadata": {},
   "source": [
    "## Problem 2 (60 points)\n",
    "\n",
    "In this problem you will practice implementing MLP and CNN to classify daily life images (CIFAR10).\n",
    "\n",
    "**Data.** You will use CIFAR10 classification dataset (10 classes). Pytorch/torchvision has provide a useful dataloader to automatically download and load the data into batches. Code of the data loader has been provided in the template. Please don't modify the data loading part."
   ]
  },
  {
   "cell_type": "code",
   "execution_count": 3,
   "id": "c2ade048-17f3-4a89-bc11-398c89095e42",
   "metadata": {},
   "outputs": [],
   "source": [
    "## Data loading code chunk, please don't modify it. \n",
    "## However, you can adjust the batch size if you want to.\n",
    "batch_size_cifar = 128\n",
    "data_dir = './data'\n",
    "\n",
    "def cifar_loaders(batch_size, shuffle_test=False): \n",
    "    normalize = transforms.Normalize(mean=[0.485, 0.456, 0.406],\n",
    "                                     std=[0.225, 0.225, 0.225])\n",
    "    train = datasets.CIFAR10(data_dir, train=True, download=False, \n",
    "        transform=transforms.Compose([\n",
    "            transforms.RandomHorizontalFlip(),\n",
    "            transforms.RandomCrop(32, 4),\n",
    "            transforms.ToTensor(),\n",
    "            normalize,\n",
    "        ]))\n",
    "    # Once you have downloaded the data by setting download=True, you can\n",
    "    # change download=True to download=False\n",
    "    test = datasets.CIFAR10(data_dir, train=False, \n",
    "        transform=transforms.Compose([transforms.ToTensor(), normalize]))\n",
    "    train_loader = torch.utils.data.DataLoader(train, batch_size=batch_size,\n",
    "        shuffle=True, pin_memory=True)\n",
    "    test_loader = torch.utils.data.DataLoader(test, batch_size=len(test_data),\n",
    "        shuffle=shuffle_test, pin_memory=True)\n",
    "    return train_loader, test_loader\n",
    "\n",
    "train_loader, test_loader = cifar_loaders(batch_size_cifar)"
   ]
  },
  {
   "cell_type": "markdown",
   "id": "8c841ac8-9aa0-46da-9cfa-2ff62eb110eb",
   "metadata": {},
   "source": [
    "### **Problem Description.**\n",
    "### 1. (20 points) Implement a 7 layers fully-connected neural networks with ReLU activation to do image classification. "
   ]
  },
  {
   "cell_type": "code",
   "execution_count": 4,
   "id": "8f91dbd3-a5bf-4275-abd2-f3258288e82f",
   "metadata": {},
   "outputs": [
    {
     "data": {
      "text/plain": [
       "<torch.cuda.device at 0x7fca5413d910>"
      ]
     },
     "execution_count": 4,
     "metadata": {},
     "output_type": "execute_result"
    }
   ],
   "source": [
    "cuda = torch.device(\"cuda\")\n",
    "torch.cuda.device(0)"
   ]
  },
  {
   "cell_type": "code",
   "execution_count": 31,
   "id": "feac4041-3dc5-44c1-87cc-356074245e1f",
   "metadata": {},
   "outputs": [],
   "source": [
    "class NeuralNetModel(nn.Module):\n",
    "    def __init__(self, input_dim, hidden_dim, output_dim):\n",
    "        super(NeuralNetModel, self).__init__() \n",
    "        self.feature = nn.Sequential(\n",
    "            nn.Linear(hidden_dim, 3072),  \n",
    "            nn.ReLU(),\n",
    "            nn.Linear(hidden_dim, 4096),  \n",
    "            nn.ReLU(),\n",
    "            nn.Linear(4096, 4096),  \n",
    "            nn.ReLU(),\n",
    "            nn.Linear(4096, 4096),  \n",
    "            nn.ReLU(),\n",
    "            nn.Linear(4096, 4096),  \n",
    "            nn.ReLU(),\n",
    "            nn.Linear(4096, 4096),  \n",
    "            nn.ReLU(),\n",
    "            nn.Linear(4096, 10),  \n",
    "            nn.ReLU()\n",
    "        )\n",
    "    \n",
    "    def forward(self, x):\n",
    "        x = self.feature(x)\n",
    "        out = x\n",
    "        return(out)"
   ]
  },
  {
   "cell_type": "code",
   "execution_count": 32,
   "id": "1f466f00-da8e-44c9-a616-53bc0549a482",
   "metadata": {},
   "outputs": [],
   "source": [
    "input_dim = 3 * 32*32\n",
    "hidden_dim = 3 * 32*32\n",
    "output_dim = 10\n",
    "model = NeuralNetModel(input_dim, hidden_dim, output_dim).cuda()"
   ]
  },
  {
   "cell_type": "code",
   "execution_count": 33,
   "id": "e9a7e120-78c9-4ef9-bb25-e7b484c91b56",
   "metadata": {},
   "outputs": [],
   "source": [
    "criterion = nn.CrossEntropyLoss()"
   ]
  },
  {
   "cell_type": "code",
   "execution_count": 34,
   "id": "6db19968-ddf2-4c53-9e72-622ae7ba439a",
   "metadata": {},
   "outputs": [],
   "source": [
    "optimizer = torch.optim.SGD(model.parameters(), lr=0.01, momentum=0.9)"
   ]
  },
  {
   "cell_type": "code",
   "execution_count": 35,
   "id": "15a74ffe-7a48-4ed7-865a-d24bafbddcdd",
   "metadata": {},
   "outputs": [
    {
     "name": "stderr",
     "output_type": "stream",
     "text": [
      " 27%|███████████▋                                | 8/30 [01:35<04:23, 11.97s/it]\n"
     ]
    },
    {
     "ename": "KeyboardInterrupt",
     "evalue": "",
     "output_type": "error",
     "traceback": [
      "\u001b[0;31m---------------------------------------------------------------------------\u001b[0m",
      "\u001b[0;31mKeyboardInterrupt\u001b[0m                         Traceback (most recent call last)",
      "Input \u001b[0;32mIn [35]\u001b[0m, in \u001b[0;36m<cell line: 1>\u001b[0;34m()\u001b[0m\n\u001b[1;32m     18\u001b[0m optimizer\u001b[38;5;241m.\u001b[39mzero_grad()\n\u001b[1;32m     20\u001b[0m prediction \u001b[38;5;241m=\u001b[39m model\u001b[38;5;241m.\u001b[39mforward(images\u001b[38;5;241m.\u001b[39mcuda())\n\u001b[0;32m---> 22\u001b[0m batch_loss \u001b[38;5;241m=\u001b[39m criterion(prediction, \u001b[43mlabels\u001b[49m\u001b[38;5;241;43m.\u001b[39;49m\u001b[43mcuda\u001b[49m\u001b[43m(\u001b[49m\u001b[43m)\u001b[49m)\n\u001b[1;32m     24\u001b[0m batch_loss\u001b[38;5;241m.\u001b[39mbackward()\n\u001b[1;32m     26\u001b[0m \u001b[38;5;66;03m# 2. Do optimization. Check torch.optim to see how to do optimization with pytorch\u001b[39;00m\n",
      "\u001b[0;31mKeyboardInterrupt\u001b[0m: "
     ]
    }
   ],
   "source": [
    "with torch.cuda.device(0):\n",
    "    num_epochs = 30\n",
    "\n",
    "    avg_losses = list()\n",
    "\n",
    "    # Training the Model\n",
    "    for epoch in tqdm(range(num_epochs)):\n",
    "        batch_losses = list()\n",
    "        for i, (images, labels) in enumerate(train_loader):\n",
    "            # Convert the 28*28 image matrix into a 784-dim vector\n",
    "            images = images.view(-1, 3 * 32*32).requires_grad_()\n",
    "            labels = labels\n",
    "            # Convert labels from 0,1 to -1,1\n",
    "            #labels = 2*(labels.float()-0.5)\n",
    "\n",
    "            # TODO \n",
    "            # 1. Compute Loss. Check torch functions for the corresponding loss for Logistic and SVM\n",
    "            optimizer.zero_grad()\n",
    "\n",
    "            prediction = model.forward(images.cuda())\n",
    "\n",
    "            batch_loss = criterion(prediction, labels.cuda())\n",
    "\n",
    "            batch_loss.backward()\n",
    "\n",
    "            # 2. Do optimization. Check torch.optim to see how to do optimization with pytorch\n",
    "            optimizer.step()\n",
    "\n",
    "            # 3. Save batch loss\n",
    "            batch_losses.append(batch_loss.detach().cpu().numpy())\n",
    "\n",
    "        # Save average epoch loss\n",
    "        avg_epoch_loss = (1 / batch_size) * np.sum(batch_losses)\n",
    "        avg_losses.append(avg_epoch_loss)"
   ]
  },
  {
   "cell_type": "markdown",
   "id": "ef0faab1-37fa-40a9-9608-4f66b12b2a63",
   "metadata": {},
   "source": [
    "### (a) (5 points) Print the model architecture."
   ]
  },
  {
   "cell_type": "code",
   "execution_count": 77,
   "id": "0718e720-b443-4506-acde-637297af7d30",
   "metadata": {},
   "outputs": [
    {
     "data": {
      "text/plain": [
       "NeuralNetModel(\n",
       "  (feature): Sequential(\n",
       "    (0): Linear(in_features=3072, out_features=3072, bias=True)\n",
       "    (1): ReLU(inplace=True)\n",
       "    (2): Linear(in_features=3072, out_features=4096, bias=True)\n",
       "    (3): ReLU(inplace=True)\n",
       "    (4): Linear(in_features=4096, out_features=4096, bias=True)\n",
       "    (5): ReLU(inplace=True)\n",
       "    (6): Linear(in_features=4096, out_features=4096, bias=True)\n",
       "    (7): ReLU(inplace=True)\n",
       "    (8): Linear(in_features=4096, out_features=4096, bias=True)\n",
       "    (9): ReLU(inplace=True)\n",
       "    (10): Linear(in_features=4096, out_features=4096, bias=True)\n",
       "    (11): ReLU(inplace=True)\n",
       "    (12): Linear(in_features=4096, out_features=10, bias=True)\n",
       "    (13): ReLU(inplace=True)\n",
       "  )\n",
       ")"
      ]
     },
     "execution_count": 77,
     "metadata": {},
     "output_type": "execute_result"
    }
   ],
   "source": [
    "model"
   ]
  },
  {
   "cell_type": "markdown",
   "id": "5ca7de90-0fc0-4033-ab32-2c5cf39e8689",
   "metadata": {},
   "source": [
    "### (b) (10 points) Report the **Average loss of an epoch** for every epoch by generating Average Loss vs. Epoch plot. Please report at least **10** epochs."
   ]
  },
  {
   "cell_type": "code",
   "execution_count": 36,
   "id": "0deead5f-43dc-425c-a33d-5e30eb03806d",
   "metadata": {},
   "outputs": [
    {
     "data": {
      "text/plain": [
       "Text(0, 0.5, 'Average Loss')"
      ]
     },
     "execution_count": 36,
     "metadata": {},
     "output_type": "execute_result"
    },
    {
     "data": {
      "image/png": "[encoded data removed]",
      "text/plain": [
       "<Figure size 640x480 with 1 Axes>"
      ]
     },
     "metadata": {},
     "output_type": "display_data"
    }
   ],
   "source": [
    "plt.plot(avg_losses)\n",
    "plt.xlabel(\"Epoch\")\n",
    "plt.ylabel(\"Average Loss\")"
   ]
  },
  {
   "cell_type": "markdown",
   "id": "a38e1f77-8928-4499-a941-e9fc50e813ac",
   "metadata": {},
   "source": [
    "### (c) (5 points) Report the final testing accuracy of trained model."
   ]
  },
  {
   "cell_type": "code",
   "execution_count": 53,
   "id": "3e427fb5-3e36-4aaf-8e45-7b9950d8832e",
   "metadata": {},
   "outputs": [
    {
     "data": {
      "text/plain": [
       "0.5014"
      ]
     },
     "execution_count": 53,
     "metadata": {},
     "output_type": "execute_result"
    }
   ],
   "source": [
    "with torch.cuda.device(0):\n",
    "    correct = 0\n",
    "\n",
    "    images, labels = next(iter(test_loader))\n",
    "\n",
    "    outputs = F.log_softmax(model.forward(images.cuda().view(-1, 3*32*32)), dim=1).argmax(dim=1)\n",
    "    outputs = outputs.detach().cpu().numpy().astype(int).ravel()\n",
    "\n",
    "    labels = labels.detach().cpu().numpy().astype(int)\n",
    "\n",
    "    for output, label in zip(outputs, labels):\n",
    "        if output == label:\n",
    "            correct += 1\n",
    "\n",
    "    accuracy = correct / len(labels)\n",
    "accuracy"
   ]
  },
  {
   "cell_type": "markdown",
   "id": "7d6c45c7-c467-4c28-8b5c-e083b4472290",
   "metadata": {},
   "source": [
    "### 2. (30 points) Implement a 7 layers CNN with 4 convolutional layers, 3 fully-connected layers and ReLU activation function. The input dimension of the 1st fully-connected layer must be 4096."
   ]
  },
  {
   "cell_type": "code",
   "execution_count": 7,
   "id": "53373880-34b1-47f4-b3ad-16007eab9b32",
   "metadata": {},
   "outputs": [],
   "source": [
    "class CNNModel(nn.Module):\n",
    "    def __init__(self):\n",
    "        super(CNNModel, self).__init__() \n",
    "        self.feature = nn.Sequential(\n",
    "            nn.Conv2d(3, 16, kernel_size=5, stride=1, padding=2),\n",
    "            nn.MaxPool2d(kernel_size=2),\n",
    "            nn.Conv2d(16, 32, kernel_size=5, stride=1, padding=2),\n",
    "            nn.MaxPool2d(kernel_size=2),\n",
    "            nn.Conv2d(32, 64, kernel_size=5, stride=1, padding=2),\n",
    "            nn.MaxPool2d(kernel_size=2),\n",
    "            nn.Conv2d(64, 1024, kernel_size=5, stride=1, padding=2),\n",
    "            nn.MaxPool2d(kernel_size=2),\n",
    "            nn.Flatten(),\n",
    "            nn.Linear(4096, 4096),  \n",
    "            nn.ReLU(),\n",
    "            nn.Linear(4096, 4096),  \n",
    "            nn.ReLU(),\n",
    "            nn.Linear(4096, 10),  \n",
    "            nn.ReLU()\n",
    "        )\n",
    "    \n",
    "    def forward(self, x):\n",
    "        x = self.feature(x)\n",
    "        out = x\n",
    "        return(out)"
   ]
  },
  {
   "cell_type": "code",
   "execution_count": 8,
   "id": "0f6bbf59-d881-4050-ae2b-d8d3e60402aa",
   "metadata": {},
   "outputs": [],
   "source": [
    "input_dim = 3 * 32*32\n",
    "hidden_dim = 3 * 32*32\n",
    "output_dim = 10\n",
    "model = CNNModel().cuda()"
   ]
  },
  {
   "cell_type": "code",
   "execution_count": 9,
   "id": "724e7947-39db-47dd-8d3f-b72a4a8b6e43",
   "metadata": {},
   "outputs": [],
   "source": [
    "criterion = nn.CrossEntropyLoss()"
   ]
  },
  {
   "cell_type": "code",
   "execution_count": 10,
   "id": "0baa4924-9022-4469-9da0-ac4bbc883c3a",
   "metadata": {},
   "outputs": [],
   "source": [
    "optimizer = torch.optim.SGD(model.parameters(), lr=0.01, momentum=0.9)"
   ]
  },
  {
   "cell_type": "code",
   "execution_count": 12,
   "id": "cb5d0c5c-f63e-4b07-b76d-5a0a84e14919",
   "metadata": {},
   "outputs": [
    {
     "name": "stderr",
     "output_type": "stream",
     "text": [
      " 70%|███████████████████████████████████████████████████                      | 21/30 [04:10<01:47, 11.95s/it]\n"
     ]
    },
    {
     "ename": "KeyboardInterrupt",
     "evalue": "",
     "output_type": "error",
     "traceback": [
      "\u001b[0;31m---------------------------------------------------------------------------\u001b[0m",
      "\u001b[0;31mKeyboardInterrupt\u001b[0m                         Traceback (most recent call last)",
      "Input \u001b[0;32mIn [12]\u001b[0m, in \u001b[0;36m<cell line: 1>\u001b[0;34m()\u001b[0m\n\u001b[1;32m     20\u001b[0m prediction \u001b[38;5;241m=\u001b[39m model\u001b[38;5;241m.\u001b[39mforward(images\u001b[38;5;241m.\u001b[39mcuda())\n\u001b[1;32m     22\u001b[0m batch_loss \u001b[38;5;241m=\u001b[39m criterion(prediction, labels\u001b[38;5;241m.\u001b[39mcuda())\n\u001b[0;32m---> 24\u001b[0m \u001b[43mbatch_loss\u001b[49m\u001b[38;5;241;43m.\u001b[39;49m\u001b[43mbackward\u001b[49m\u001b[43m(\u001b[49m\u001b[43m)\u001b[49m\n\u001b[1;32m     26\u001b[0m \u001b[38;5;66;03m# 2. Do optimization. Check torch.optim to see how to do optimization with pytorch\u001b[39;00m\n\u001b[1;32m     27\u001b[0m optimizer\u001b[38;5;241m.\u001b[39mstep()\n",
      "File \u001b[0;32m~/venvs/stor566/lib/python3.9/site-packages/torch/_tensor.py:396\u001b[0m, in \u001b[0;36mTensor.backward\u001b[0;34m(self, gradient, retain_graph, create_graph, inputs)\u001b[0m\n\u001b[1;32m    387\u001b[0m \u001b[38;5;28;01mif\u001b[39;00m has_torch_function_unary(\u001b[38;5;28mself\u001b[39m):\n\u001b[1;32m    388\u001b[0m     \u001b[38;5;28;01mreturn\u001b[39;00m handle_torch_function(\n\u001b[1;32m    389\u001b[0m         Tensor\u001b[38;5;241m.\u001b[39mbackward,\n\u001b[1;32m    390\u001b[0m         (\u001b[38;5;28mself\u001b[39m,),\n\u001b[0;32m   (...)\u001b[0m\n\u001b[1;32m    394\u001b[0m         create_graph\u001b[38;5;241m=\u001b[39mcreate_graph,\n\u001b[1;32m    395\u001b[0m         inputs\u001b[38;5;241m=\u001b[39minputs)\n\u001b[0;32m--> 396\u001b[0m \u001b[43mtorch\u001b[49m\u001b[38;5;241;43m.\u001b[39;49m\u001b[43mautograd\u001b[49m\u001b[38;5;241;43m.\u001b[39;49m\u001b[43mbackward\u001b[49m\u001b[43m(\u001b[49m\u001b[38;5;28;43mself\u001b[39;49m\u001b[43m,\u001b[49m\u001b[43m \u001b[49m\u001b[43mgradient\u001b[49m\u001b[43m,\u001b[49m\u001b[43m \u001b[49m\u001b[43mretain_graph\u001b[49m\u001b[43m,\u001b[49m\u001b[43m \u001b[49m\u001b[43mcreate_graph\u001b[49m\u001b[43m,\u001b[49m\u001b[43m \u001b[49m\u001b[43minputs\u001b[49m\u001b[38;5;241;43m=\u001b[39;49m\u001b[43minputs\u001b[49m\u001b[43m)\u001b[49m\n",
      "File \u001b[0;32m~/venvs/stor566/lib/python3.9/site-packages/torch/autograd/__init__.py:173\u001b[0m, in \u001b[0;36mbackward\u001b[0;34m(tensors, grad_tensors, retain_graph, create_graph, grad_variables, inputs)\u001b[0m\n\u001b[1;32m    168\u001b[0m     retain_graph \u001b[38;5;241m=\u001b[39m create_graph\n\u001b[1;32m    170\u001b[0m \u001b[38;5;66;03m# The reason we repeat same the comment below is that\u001b[39;00m\n\u001b[1;32m    171\u001b[0m \u001b[38;5;66;03m# some Python versions print out the first line of a multi-line function\u001b[39;00m\n\u001b[1;32m    172\u001b[0m \u001b[38;5;66;03m# calls in the traceback and some print out the last line\u001b[39;00m\n\u001b[0;32m--> 173\u001b[0m \u001b[43mVariable\u001b[49m\u001b[38;5;241;43m.\u001b[39;49m\u001b[43m_execution_engine\u001b[49m\u001b[38;5;241;43m.\u001b[39;49m\u001b[43mrun_backward\u001b[49m\u001b[43m(\u001b[49m\u001b[43m  \u001b[49m\u001b[38;5;66;43;03m# Calls into the C++ engine to run the backward pass\u001b[39;49;00m\n\u001b[1;32m    174\u001b[0m \u001b[43m    \u001b[49m\u001b[43mtensors\u001b[49m\u001b[43m,\u001b[49m\u001b[43m \u001b[49m\u001b[43mgrad_tensors_\u001b[49m\u001b[43m,\u001b[49m\u001b[43m \u001b[49m\u001b[43mretain_graph\u001b[49m\u001b[43m,\u001b[49m\u001b[43m \u001b[49m\u001b[43mcreate_graph\u001b[49m\u001b[43m,\u001b[49m\u001b[43m \u001b[49m\u001b[43minputs\u001b[49m\u001b[43m,\u001b[49m\n\u001b[1;32m    175\u001b[0m \u001b[43m    \u001b[49m\u001b[43mallow_unreachable\u001b[49m\u001b[38;5;241;43m=\u001b[39;49m\u001b[38;5;28;43;01mTrue\u001b[39;49;00m\u001b[43m,\u001b[49m\u001b[43m \u001b[49m\u001b[43maccumulate_grad\u001b[49m\u001b[38;5;241;43m=\u001b[39;49m\u001b[38;5;28;43;01mTrue\u001b[39;49;00m\u001b[43m)\u001b[49m\n",
      "\u001b[0;31mKeyboardInterrupt\u001b[0m: "
     ]
    }
   ],
   "source": [
    "with torch.cuda.device(0):\n",
    "    num_epochs = 30\n",
    "\n",
    "    avg_losses = list()\n",
    "\n",
    "    # Training the Model\n",
    "    for epoch in tqdm(range(num_epochs)):\n",
    "        batch_losses = list()\n",
    "        for i, (images, labels) in enumerate(train_loader):\n",
    "            # Convert the 28*28 image matrix into a 784-dim vector\n",
    "            images = images.requires_grad_()\n",
    "            labels = labels\n",
    "            # Convert labels from 0,1 to -1,1\n",
    "            #labels = 2*(labels.float()-0.5)\n",
    "\n",
    "            # TODO \n",
    "            # 1. Compute Loss. Check torch functions for the corresponding loss for Logistic and SVM\n",
    "            optimizer.zero_grad()\n",
    "\n",
    "            prediction = model.forward(images.cuda())\n",
    "\n",
    "            batch_loss = criterion(prediction, labels.cuda())\n",
    "\n",
    "            batch_loss.backward()\n",
    "\n",
    "            # 2. Do optimization. Check torch.optim to see how to do optimization with pytorch\n",
    "            optimizer.step()\n",
    "\n",
    "            # 3. Save batch loss\n",
    "            batch_losses.append(batch_loss.detach().cpu().numpy())\n",
    "\n",
    "        # Save average epoch loss\n",
    "        avg_epoch_loss = (1 / batch_size) * np.sum(batch_losses)\n",
    "        avg_losses.append(avg_epoch_loss)"
   ]
  },
  {
   "cell_type": "markdown",
   "id": "850fccfd-ffae-462a-ae45-57be7d99a19d",
   "metadata": {},
   "source": [
    "### (a) (5 points) Print the model architecture."
   ]
  },
  {
   "cell_type": "code",
   "execution_count": 13,
   "id": "2bc6d065-f228-4bd0-87f1-5d54a35681d6",
   "metadata": {},
   "outputs": [
    {
     "data": {
      "text/plain": [
       "CNNModel(\n",
       "  (feature): Sequential(\n",
       "    (0): Conv2d(3, 16, kernel_size=(5, 5), stride=(1, 1), padding=(2, 2))\n",
       "    (1): MaxPool2d(kernel_size=2, stride=2, padding=0, dilation=1, ceil_mode=False)\n",
       "    (2): Conv2d(16, 32, kernel_size=(5, 5), stride=(1, 1), padding=(2, 2))\n",
       "    (3): MaxPool2d(kernel_size=2, stride=2, padding=0, dilation=1, ceil_mode=False)\n",
       "    (4): Conv2d(32, 64, kernel_size=(5, 5), stride=(1, 1), padding=(2, 2))\n",
       "    (5): MaxPool2d(kernel_size=2, stride=2, padding=0, dilation=1, ceil_mode=False)\n",
       "    (6): Conv2d(64, 1024, kernel_size=(5, 5), stride=(1, 1), padding=(2, 2))\n",
       "    (7): MaxPool2d(kernel_size=2, stride=2, padding=0, dilation=1, ceil_mode=False)\n",
       "    (8): Flatten(start_dim=1, end_dim=-1)\n",
       "    (9): Linear(in_features=4096, out_features=4096, bias=True)\n",
       "    (10): ReLU()\n",
       "    (11): Linear(in_features=4096, out_features=4096, bias=True)\n",
       "    (12): ReLU()\n",
       "    (13): Linear(in_features=4096, out_features=10, bias=True)\n",
       "    (14): ReLU()\n",
       "  )\n",
       ")"
      ]
     },
     "execution_count": 13,
     "metadata": {},
     "output_type": "execute_result"
    }
   ],
   "source": [
    "model"
   ]
  },
  {
   "cell_type": "markdown",
   "id": "f3fac679-ba16-4a95-b561-ce9983b0c6ca",
   "metadata": {},
   "source": [
    "### (b) (10 points) Report the **Average loss of an epoch** for every epoch by generating Average Loss vs. Epoch plot. Please report at least **10** epochs."
   ]
  },
  {
   "cell_type": "code",
   "execution_count": 14,
   "id": "90f65cae-2414-4e34-a88c-f7c284f1ccd2",
   "metadata": {},
   "outputs": [
    {
     "data": {
      "text/plain": [
       "Text(0, 0.5, 'Average Loss')"
      ]
     },
     "execution_count": 14,
     "metadata": {},
     "output_type": "execute_result"
    },
    {
     "data": {
      "image/png": "[encoded data removed]",
      "text/plain": [
       "<Figure size 640x480 with 1 Axes>"
      ]
     },
     "metadata": {},
     "output_type": "display_data"
    }
   ],
   "source": [
    "plt.plot(avg_losses)\n",
    "plt.xlabel(\"Epoch\")\n",
    "plt.ylabel(\"Average Loss\")"
   ]
  },
  {
   "cell_type": "markdown",
   "id": "a5ca90f9-c7f0-436f-aa70-5c10f17d6ff6",
   "metadata": {},
   "source": [
    "### (c) (5 points) Report the final testing accuracy of trained model."
   ]
  },
  {
   "cell_type": "code",
   "execution_count": 16,
   "id": "7cf9626f-3730-471c-934b-b9067e83afca",
   "metadata": {},
   "outputs": [
    {
     "data": {
      "text/plain": [
       "0.7889"
      ]
     },
     "execution_count": 16,
     "metadata": {},
     "output_type": "execute_result"
    }
   ],
   "source": [
    "with torch.cuda.device(0):\n",
    "    correct = 0\n",
    "\n",
    "    images, labels = next(iter(test_loader))\n",
    "\n",
    "    outputs = F.log_softmax(model.forward(images.cuda()), dim=1).argmax(dim=1)\n",
    "    outputs = outputs.detach().cpu().numpy().astype(int).ravel()\n",
    "\n",
    "    labels = labels.detach().cpu().numpy().astype(int)\n",
    "\n",
    "    for output, label in zip(outputs, labels):\n",
    "        if output == label:\n",
    "            correct += 1\n",
    "\n",
    "    accuracy = correct / len(labels)\n",
    "accuracy"
   ]
  },
  {
   "cell_type": "markdown",
   "id": "ac3af683-0cbf-4d4c-842c-75d6fb0774bd",
   "metadata": {},
   "source": [
    "### (d) (10 points) Write a new cifar$\\_$loaders function to try different data augmentation methods."
   ]
  },
  {
   "cell_type": "code",
   "execution_count": null,
   "id": "9cb420fe-fc0b-40d3-8c20-2ddbaa2ef61d",
   "metadata": {},
   "outputs": [],
   "source": []
  },
  {
   "cell_type": "markdown",
   "id": "cf81f548-5e53-42e9-9c8e-9ccfabb57da5",
   "metadata": {},
   "source": [
    "### 3. (10 points) Please compare the results of the two models (MLP and CNN)."
   ]
  },
  {
   "cell_type": "code",
   "execution_count": null,
   "id": "39524d8a-881b-4cd1-b157-149ebb9d7158",
   "metadata": {},
   "outputs": [],
   "source": []
  },
  {
   "cell_type": "markdown",
   "id": "d36e83e1-bc7d-4b30-a528-9be7aadcc7e6",
   "metadata": {},
   "source": [
    "### 1. (20 points) Implement **Logistic Regression** with Pytorch to do handwritten digit 0 vs. 1 classification. Pick an optimizer yourself. "
   ]
  }
 ],
 "metadata": {
  "kernelspec": {
   "display_name": "Python 3 (ipykernel)",
   "language": "python",
   "name": "python3"
  },
  "language_info": {
   "codemirror_mode": {
    "name": "ipython",
    "version": 3
   },
   "file_extension": ".py",
   "mimetype": "text/x-python",
   "name": "python",
   "nbconvert_exporter": "python",
   "pygments_lexer": "ipython3",
   "version": "3.9.2"
  }
 },
 "nbformat": 4,
 "nbformat_minor": 5
}

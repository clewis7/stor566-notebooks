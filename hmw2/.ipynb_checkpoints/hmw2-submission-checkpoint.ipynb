{
 "cells": [
  {
   "cell_type": "markdown",
   "id": "847ed006-0cab-4d89-b7fb-b627a75abaac",
   "metadata": {},
   "source": [
    "Downloading data:"
   ]
  },
  {
   "cell_type": "code",
   "execution_count": 38,
   "id": "cc91b919-b3dd-4b04-903c-903d9e6a9041",
   "metadata": {},
   "outputs": [],
   "source": [
    "batch_size = 200\n",
    "data_dir = '/home/clewis7/repos/stor566-notebooks/hmw2/hmw2-data/'\n",
    "\n",
    "import torch\n",
    "import torch.nn as nn\n",
    "import torch.optim as optim\n",
    "import torch.nn.functional as F\n",
    "import numpy as np\n",
    "import torch.utils.data as td\n",
    "import random, time\n",
    "import matplotlib.pyplot as plt\n",
    "from torchvision import datasets, transforms\n",
    "from torch.utils.data.sampler import SubsetRandomSampler\n",
    "\n",
    "## USE THIS SNIPPET TO GET BINARY TRAIN/TEST DATA\n",
    "\n",
    "train_data = datasets.MNIST(data_dir, train=True, download=True,\n",
    "                   transform=transforms.Compose([\n",
    "                       transforms.ToTensor(),\n",
    "                       transforms.Normalize((0.1307,), (0.3081,))\n",
    "                   ]))\n",
    "# Once you have downloaded the data by setting download=True, you can\n",
    "# change download=True to download=False\n",
    "test_data = datasets.MNIST(data_dir, train=False, download=False,\n",
    "                   transform=transforms.Compose([\n",
    "                       transforms.ToTensor(),\n",
    "                       transforms.Normalize((0.1307,), (0.3081,))\n",
    "                   ]))\n",
    "\n",
    "subset_indices = ((train_data.targets == 0) + (train_data.targets == 1)).nonzero()\n",
    "train_loader = torch.utils.data.DataLoader(train_data,batch_size=batch_size, \n",
    "  shuffle=False,sampler=SubsetRandomSampler(subset_indices.view(-1)))\n",
    "\n",
    "\n",
    "subset_indices = ((test_data.targets == 0) + (test_data.targets == 1)).nonzero()\n",
    "test_loader = torch.utils.data.DataLoader(test_data,batch_size=batch_size, \n",
    "  shuffle=False,sampler=SubsetRandomSampler(subset_indices.view(-1)))"
   ]
  },
  {
   "cell_type": "markdown",
   "id": "d36e83e1-bc7d-4b30-a528-9be7aadcc7e6",
   "metadata": {},
   "source": [
    "### 1. (20 points) Implement **Logistic Regression** with Pytorch to do handwritten digit 0 vs. 1 classification. Pick an optimizer yourself. "
   ]
  },
  {
   "cell_type": "code",
   "execution_count": 40,
   "id": "ae46d1d5-4a3c-490f-b599-a1fe6a643756",
   "metadata": {},
   "outputs": [],
   "source": [
    "class LogisticRegression(torch.nn.Module):\n",
    "     def __init__(self, input_dim, output_dim):\n",
    "         super(LogisticRegression, self).__init__()\n",
    "         self.linear = torch.nn.Linear(input_dim, output_dim)\n",
    "            \n",
    "     def forward(self, x):\n",
    "         out = torch.sigmoid(self.linear(x))\n",
    "         return out"
   ]
  },
  {
   "cell_type": "code",
   "execution_count": 41,
   "id": "24a4cfdc-6e97-41c1-a68e-08dbc44a539c",
   "metadata": {},
   "outputs": [],
   "source": [
    "input_dim = 28*28\n",
    "output_dim = 1\n",
    "model = LogisticRegression(input_dim,output_dim)"
   ]
  },
  {
   "cell_type": "code",
   "execution_count": 42,
   "id": "4a4b31ee-0669-467b-8a13-27f5856fd8f9",
   "metadata": {},
   "outputs": [],
   "source": [
    "criterion = torch.nn.BCELoss()"
   ]
  },
  {
   "cell_type": "code",
   "execution_count": 44,
   "id": "72b03bf9-fc65-4d76-8342-6f3136d02932",
   "metadata": {},
   "outputs": [],
   "source": [
    "optimizer = torch.optim.SGD(model.parameters(), lr=0.05, momentum=0.9)"
   ]
  },
  {
   "cell_type": "code",
   "execution_count": 45,
   "id": "20ddab13-61d2-4ca2-8e36-9095f37a3435",
   "metadata": {},
   "outputs": [],
   "source": [
    "from tqdm import tqdm"
   ]
  },
  {
   "cell_type": "markdown",
   "id": "c10aa3d1-09bb-4067-977a-534ebb440307",
   "metadata": {},
   "source": [
    "epochs = iterations / (total data / batch size)"
   ]
  },
  {
   "cell_type": "code",
   "execution_count": 46,
   "id": "78735d4a-6661-44fb-a731-ea46627379fe",
   "metadata": {},
   "outputs": [
    {
     "name": "stderr",
     "output_type": "stream",
     "text": [
      "100%|███████████████████████████████████████████| 25/25 [00:25<00:00,  1.03s/it]\n"
     ]
    }
   ],
   "source": [
    "# The number of epochs is at least 10, you can increase it to achieve better performance\n",
    "num_epochs = 25\n",
    "\n",
    "avg_losses = list()\n",
    "\n",
    "# Training the Model\n",
    "for epoch in tqdm(range(num_epochs)):\n",
    "    batch_losses = list()\n",
    "    for i, (images, labels) in enumerate(train_loader):\n",
    "        # Convert the 28*28 image matrix into a 784-dim vector\n",
    "        images = images.view(-1, 28*28).requires_grad_()\n",
    "        labels = labels\n",
    "        # Convert labels from 0,1 to -1,1\n",
    "        #labels = 2*(labels.float()-0.5)\n",
    "        \n",
    "        # TODO \n",
    "        # 1. Compute Loss. Check torch functions for the corresponding loss for Logistic and SVM\n",
    "        optimizer.zero_grad()\n",
    "    \n",
    "        prediction = model.forward(images)\n",
    "        \n",
    "        batch_loss = criterion(prediction, labels.reshape(-1,1).to(torch.float32))\n",
    "        \n",
    "        batch_loss.backward()\n",
    "        \n",
    "        # 2. Do optimization. Check torch.optim to see how to do optimization with pytorch\n",
    "        optimizer.step()\n",
    "    \n",
    "        # 3. Save batch loss\n",
    "        batch_losses.append(batch_loss.detach().numpy())\n",
    "\n",
    "    # Save average epoch loss\n",
    "    avg_epoch_loss = (1 / batch_size) * np.sum(batch_losses)\n",
    "    avg_losses.append(avg_epoch_loss)\n",
    "    \n",
    "    \n",
    "    "
   ]
  },
  {
   "cell_type": "markdown",
   "id": "364d16d6-dca3-48eb-97e9-4c4a76f5ea22",
   "metadata": {},
   "source": [
    "### (a) (5 points) Report the hyper-parameters (number of epochs, learning rate, momentum etc)."
   ]
  },
  {
   "cell_type": "markdown",
   "id": "0335c2db-0030-40eb-9401-94dd4fb37d65",
   "metadata": {},
   "source": [
    "**Hyper-Parameters**\n",
    "\n",
    "Number of Epochs: 10\n",
    "\n",
    "Learning Rate: 0.01\n",
    "\n",
    "Momentum: 0.9"
   ]
  },
  {
   "cell_type": "markdown",
   "id": "91469008-1c0c-4d61-a740-8791de9d66db",
   "metadata": {},
   "source": [
    "### (b) (10 points) Report the **Average loss of an epoch** for every epoch by generating Average Loss vs. Epoch plot. Please report at least **10** epochs."
   ]
  },
  {
   "cell_type": "code",
   "execution_count": 36,
   "id": "29df3f16-a91d-4dbd-80de-97bdc38575a0",
   "metadata": {
    "tags": []
   },
   "outputs": [],
   "source": [
    "import matplotlib.pyplot as plt"
   ]
  },
  {
   "cell_type": "code",
   "execution_count": 47,
   "id": "9e9ee6b1-a314-4a9a-a8b1-c74a3b145dd4",
   "metadata": {},
   "outputs": [
    {
     "data": {
      "text/plain": [
       "Text(0, 0.5, 'Average Loss')"
      ]
     },
     "execution_count": 47,
     "metadata": {},
     "output_type": "execute_result"
    },
    {
     "data": {
      "image/png": "[encoded data removed]",
      "text/plain": [
       "<Figure size 640x480 with 1 Axes>"
      ]
     },
     "metadata": {},
     "output_type": "display_data"
    }
   ],
   "source": [
    "plt.plot(avg_losses)\n",
    "plt.xlabel(\"Epoch\")\n",
    "plt.ylabel(\"Average Loss\")"
   ]
  },
  {
   "cell_type": "code",
   "execution_count": 48,
   "id": "ff1db3c0-aafe-45f2-a7a5-602d86113b65",
   "metadata": {},
   "outputs": [
    {
     "data": {
      "text/plain": [
       "<generator object Module.parameters at 0x7f04ecb53900>"
      ]
     },
     "execution_count": 48,
     "metadata": {},
     "output_type": "execute_result"
    }
   ],
   "source": [
    "model.parameters()"
   ]
  },
  {
   "cell_type": "markdown",
   "id": "3b7d5e28-0f86-40f4-9122-663cd7e48c0b",
   "metadata": {},
   "source": [
    "### (c) (5 points) Report the final testing accuracy of trained model."
   ]
  },
  {
   "cell_type": "code",
   "execution_count": 66,
   "id": "35395279-1feb-41af-a629-791a648d15bb",
   "metadata": {},
   "outputs": [
    {
     "ename": "AttributeError",
     "evalue": "'generator' object has no attribute 'data'",
     "output_type": "error",
     "traceback": [
      "\u001b[0;31m---------------------------------------------------------------------------\u001b[0m",
      "\u001b[0;31mAttributeError\u001b[0m                            Traceback (most recent call last)",
      "Input \u001b[0;32mIn [66]\u001b[0m, in \u001b[0;36m<cell line: 1>\u001b[0;34m()\u001b[0m\n\u001b[0;32m----> 1\u001b[0m \u001b[43mmodel\u001b[49m\u001b[38;5;241;43m.\u001b[39;49m\u001b[43mparameters\u001b[49m\u001b[43m(\u001b[49m\u001b[43m)\u001b[49m\u001b[38;5;241;43m.\u001b[39;49m\u001b[43mdata\u001b[49m\u001b[38;5;241m.\u001b[39mdetach()\u001b[38;5;241m.\u001b[39mnumpy()\n",
      "\u001b[0;31mAttributeError\u001b[0m: 'generator' object has no attribute 'data'"
     ]
    }
   ],
   "source": [
    "model.parameters().data.detach().numpy()"
   ]
  },
  {
   "cell_type": "code",
   "execution_count": 76,
   "id": "48345321-d287-43be-95aa-40c23bbe52c9",
   "metadata": {},
   "outputs": [
    {
     "name": "stdout",
     "output_type": "stream",
     "text": [
      "tensor([1.7189e-13])\n",
      "tensor([1.])\n",
      "tensor([2.5432e-19])\n",
      "tensor([0.9976])\n",
      "tensor([3.8978e-11])\n",
      "tensor([6.2649e-08])\n",
      "tensor([1.])\n",
      "tensor([1.])\n",
      "tensor([1.4416e-22])\n",
      "tensor([1.2021e-23])\n",
      "tensor([4.7514e-12])\n"
     ]
    }
   ],
   "source": [
    "N = len(test_data)\n",
    "# accuracy_sum = 0\n",
    "# for i in tqdm(range(N)):\n",
    "#     accuracy_sum += 1(predicted_labels[i] == actual_label[i]\n",
    "    \n",
    "correct = 0\n",
    "total = 0\n",
    "for images, labels in test_loader:\n",
    "    images = images.view(-1, 28*28).requires_grad_()\n",
    "    labels = labels\n",
    "    \n",
    "    \n",
    "    outputs = model(images)\n",
    "    print(outputs[0].data)\n",
    "\n",
    "    # _, predicted = torch.max(outputs.data, 1)\n",
    "    # print(predicted)\n",
    "    \n",
    "#     total += labels.size(0)\n",
    "\n",
    "# accuracy = 100 * correct / total"
   ]
  },
  {
   "cell_type": "code",
   "execution_count": 58,
   "id": "e7394145-9c85-4ba0-b4ac-9b9a7985b9b8",
   "metadata": {},
   "outputs": [
    {
     "data": {
      "text/plain": [
       "11"
      ]
     },
     "execution_count": 58,
     "metadata": {},
     "output_type": "execute_result"
    }
   ],
   "source": [
    "len(test_loader)"
   ]
  },
  {
   "cell_type": "code",
   "execution_count": 19,
   "id": "ed4de3e1-6315-4e97-a39a-c2634ed8b8d4",
   "metadata": {},
   "outputs": [
    {
     "data": {
      "text/plain": [
       "0.0"
      ]
     },
     "execution_count": 19,
     "metadata": {},
     "output_type": "execute_result"
    }
   ],
   "source": [
    "accuracy"
   ]
  },
  {
   "cell_type": "code",
   "execution_count": null,
   "id": "126a20d7-e2d2-4425-82e5-a43d3fa5b2e3",
   "metadata": {},
   "outputs": [],
   "source": []
  },
  {
   "cell_type": "markdown",
   "id": "61859fa3-951f-4e03-aa34-fd5e6da40c83",
   "metadata": {},
   "source": [
    "## Problem 2 (60 points)\n",
    "\n",
    "In this problem you will practice implementing MLP and CNN to classify daily life images (CIFAR10).\n",
    "\n",
    "**Data.** You will use CIFAR10 classification dataset (10 classes). Pytorch/torchvision has provide a useful dataloader to automatically download and load the data into batches. Code of the data loader has been provided in the template. Please don't modify the data loading part."
   ]
  },
  {
   "cell_type": "code",
   "execution_count": 39,
   "id": "c2ade048-17f3-4a89-bc11-398c89095e42",
   "metadata": {},
   "outputs": [],
   "source": [
    "## Data loading code chunk, please don't modify it. \n",
    "## However, you can adjust the batch size if you want to.\n",
    "batch_size_cifar = 64\n",
    "data_dir = './data'\n",
    "\n",
    "def cifar_loaders(batch_size, shuffle_test=False): \n",
    "    normalize = transforms.Normalize(mean=[0.485, 0.456, 0.406],\n",
    "                                     std=[0.225, 0.225, 0.225])\n",
    "    train = datasets.CIFAR10(data_dir, train=True, download=False, \n",
    "        transform=transforms.Compose([\n",
    "            transforms.RandomHorizontalFlip(),\n",
    "            transforms.RandomCrop(32, 4),\n",
    "            transforms.ToTensor(),\n",
    "            normalize,\n",
    "        ]))\n",
    "    # Once you have downloaded the data by setting download=True, you can\n",
    "    # change download=True to download=False\n",
    "    test = datasets.CIFAR10(data_dir, train=False, \n",
    "        transform=transforms.Compose([transforms.ToTensor(), normalize]))\n",
    "    train_loader = torch.utils.data.DataLoader(train, batch_size=batch_size,\n",
    "        shuffle=True, pin_memory=True)\n",
    "    test_loader = torch.utils.data.DataLoader(test, batch_size=batch_size,\n",
    "        shuffle=shuffle_test, pin_memory=True)\n",
    "    return train_loader, test_loader\n",
    "\n",
    "train_loader, test_loader = cifar_loaders(batch_size_cifar)"
   ]
  },
  {
   "cell_type": "markdown",
   "id": "8c841ac8-9aa0-46da-9cfa-2ff62eb110eb",
   "metadata": {},
   "source": [
    "### **Problem Description.**\n",
    "### 1. (20 points) Implement a 7 layers fully-connected neural networks with ReLU activation to do image classification. "
   ]
  },
  {
   "cell_type": "code",
   "execution_count": null,
   "id": "feac4041-3dc5-44c1-87cc-356074245e1f",
   "metadata": {},
   "outputs": [],
   "source": []
  },
  {
   "cell_type": "markdown",
   "id": "ef0faab1-37fa-40a9-9608-4f66b12b2a63",
   "metadata": {},
   "source": [
    "### (a) (5 points) Print the model architecture."
   ]
  },
  {
   "cell_type": "code",
   "execution_count": null,
   "id": "0718e720-b443-4506-acde-637297af7d30",
   "metadata": {},
   "outputs": [],
   "source": []
  },
  {
   "cell_type": "markdown",
   "id": "5ca7de90-0fc0-4033-ab32-2c5cf39e8689",
   "metadata": {},
   "source": [
    "### (b) (10 points) Report the **Average loss of an epoch** for every epoch by generating Average Loss vs. Epoch plot. Please report at least **10** epochs."
   ]
  },
  {
   "cell_type": "code",
   "execution_count": null,
   "id": "0deead5f-43dc-425c-a33d-5e30eb03806d",
   "metadata": {},
   "outputs": [],
   "source": []
  },
  {
   "cell_type": "markdown",
   "id": "a38e1f77-8928-4499-a941-e9fc50e813ac",
   "metadata": {},
   "source": [
    "### (c) (5 points) Report the final testing accuracy of trained model."
   ]
  },
  {
   "cell_type": "code",
   "execution_count": null,
   "id": "fd01fc7c-a81d-442b-b52b-f49914cec17e",
   "metadata": {},
   "outputs": [],
   "source": []
  },
  {
   "cell_type": "markdown",
   "id": "7d6c45c7-c467-4c28-8b5c-e083b4472290",
   "metadata": {},
   "source": [
    "### 2. (30 points) Implement a 7 layers CNN with 4 convolutional layers, 3 fully-connected layers and ReLU activation function. The input dimension of the 1st fully-connected layer must be 4096."
   ]
  },
  {
   "cell_type": "code",
   "execution_count": null,
   "id": "a3a925fe-a829-4a0f-a9b2-cf71003bd1a0",
   "metadata": {},
   "outputs": [],
   "source": []
  },
  {
   "cell_type": "markdown",
   "id": "850fccfd-ffae-462a-ae45-57be7d99a19d",
   "metadata": {},
   "source": [
    "### (a) (5 points) Print the model architecture."
   ]
  },
  {
   "cell_type": "code",
   "execution_count": null,
   "id": "2bc6d065-f228-4bd0-87f1-5d54a35681d6",
   "metadata": {},
   "outputs": [],
   "source": []
  },
  {
   "cell_type": "markdown",
   "id": "f3fac679-ba16-4a95-b561-ce9983b0c6ca",
   "metadata": {},
   "source": [
    "### (b) (10 points) Report the **Average loss of an epoch** for every epoch by generating Average Loss vs. Epoch plot. Please report at least **10** epochs."
   ]
  },
  {
   "cell_type": "code",
   "execution_count": null,
   "id": "90f65cae-2414-4e34-a88c-f7c284f1ccd2",
   "metadata": {},
   "outputs": [],
   "source": []
  },
  {
   "cell_type": "markdown",
   "id": "a5ca90f9-c7f0-436f-aa70-5c10f17d6ff6",
   "metadata": {},
   "source": [
    "### (c) (5 points) Report the final testing accuracy of trained model."
   ]
  },
  {
   "cell_type": "code",
   "execution_count": null,
   "id": "7cf9626f-3730-471c-934b-b9067e83afca",
   "metadata": {},
   "outputs": [],
   "source": []
  },
  {
   "cell_type": "markdown",
   "id": "ac3af683-0cbf-4d4c-842c-75d6fb0774bd",
   "metadata": {},
   "source": [
    "### (d) (10 points) Write a new cifar$\\_$loaders function to try different data augmentation methods."
   ]
  },
  {
   "cell_type": "code",
   "execution_count": null,
   "id": "9cb420fe-fc0b-40d3-8c20-2ddbaa2ef61d",
   "metadata": {},
   "outputs": [],
   "source": []
  },
  {
   "cell_type": "markdown",
   "id": "cf81f548-5e53-42e9-9c8e-9ccfabb57da5",
   "metadata": {},
   "source": [
    "### 3. (10 points) Please compare the results of the two models (MLP and CNN)."
   ]
  },
  {
   "cell_type": "code",
   "execution_count": null,
   "id": "39524d8a-881b-4cd1-b157-149ebb9d7158",
   "metadata": {},
   "outputs": [],
   "source": []
  }
 ],
 "metadata": {
  "kernelspec": {
   "display_name": "Python 3 (ipykernel)",
   "language": "python",
   "name": "python3"
  },
  "language_info": {
   "codemirror_mode": {
    "name": "ipython",
    "version": 3
   },
   "file_extension": ".py",
   "mimetype": "text/x-python",
   "name": "python",
   "nbconvert_exporter": "python",
   "pygments_lexer": "ipython3",
   "version": "3.9.2"
  }
 },
 "nbformat": 4,
 "nbformat_minor": 5
}

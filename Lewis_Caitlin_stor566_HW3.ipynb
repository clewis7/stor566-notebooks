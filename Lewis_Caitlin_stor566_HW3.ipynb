{
 "cells": [
  {
   "cell_type": "markdown",
   "id": "faca5476-9a1d-4447-bf4c-24842cb73ec1",
   "metadata": {},
   "source": [
    "## Problem 1 (100 points)\n",
    "\n",
    "In this problem you will practice implementing LSTM on SST2 data set to do sentiment analysis (binary classification of positive vs. negative).\n",
    "\n",
    "**Data.** You will use SST2 dataset. Pytorch/torchdata has provide a useful dataloader to automatically download and load the data into batches. In this homework, you need two class, positive and negative, for binary classification. Code of the data loader has been provided in the template. You can modify the data loading part to use different tokenizer."
   ]
  },
  {
   "cell_type": "code",
   "execution_count": 1,
   "id": "05037f94-8e0b-44fa-99c2-2976dcd259ed",
   "metadata": {},
   "outputs": [],
   "source": [
    "import torchdata\n",
    "import torch\n",
    "import torch.nn as nn\n",
    "import torchtext.transforms as T\n",
    "import torchtext.functional as F\n",
    "from torchtext.datasets import SST2\n",
    "from torch.utils.data import DataLoader\n",
    "from torch.hub import load_state_dict_from_url\n",
    "from torch.nn.utils.rnn import pad_sequence\n",
    "from tqdm import tqdm\n",
    "from torch.autograd import Variable\n",
    "import numpy as np"
   ]
  },
  {
   "cell_type": "code",
   "execution_count": 2,
   "id": "10d15d54-96a8-4941-b90c-73a677489724",
   "metadata": {},
   "outputs": [],
   "source": [
    "# Prepare data loader\n",
    "# Feel free to modify the data loading process as needed\n",
    "padding_idx = 1\n",
    "bos_idx = 0\n",
    "eos_idx = 2\n",
    "batch_size = 16\n",
    "max_seq_len = 256\n",
    "# You can use other Tokenizer\n",
    "xlmr_vocab_path = r\"https://download.pytorch.org/models/text/xlmr.vocab.pt\"\n",
    "xlmr_spm_model_path = r\"https://download.pytorch.org/models/text/xlmr.sentencepiece.bpe.model\"\n",
    "xmlr_vocab = load_state_dict_from_url(xlmr_vocab_path)\n",
    "\n",
    "text_transform = T.Sequential(\n",
    "    T.SentencePieceTokenizer(xlmr_spm_model_path),\n",
    "    T.VocabTransform(xmlr_vocab),\n",
    "    T.Truncate(max_seq_len - 2),\n",
    "    T.AddToken(token=bos_idx, begin=True),\n",
    "    T.AddToken(token=eos_idx, begin=False),\n",
    ")\n",
    "\n",
    "train_datapipe = SST2(split=\"train\")\n",
    "test_datapipe = SST2(split=\"dev\")\n",
    "\n",
    "def apply_transform(x):\n",
    "    return text_transform(x[0]), x[1]\n",
    "\n",
    "train_datapipe = train_datapipe.map(apply_transform)\n",
    "train_datapipe = train_datapipe.batch(batch_size)\n",
    "train_datapipe = train_datapipe.rows2columnar([\"token_ids\", \"target\"])\n",
    "train_dataloader = DataLoader(train_datapipe, batch_size=None)\n",
    "\n",
    "test_datapipe = test_datapipe.map(apply_transform)\n",
    "test_datapipe = test_datapipe.batch(batch_size)\n",
    "test_datapipe = test_datapipe.rows2columnar([\"token_ids\", \"target\"])\n",
    "test_dataloader = DataLoader(test_datapipe, batch_size=None)"
   ]
  },
  {
   "cell_type": "code",
   "execution_count": 3,
   "id": "fbbed929-6257-4393-a2d7-692fe3b3997d",
   "metadata": {},
   "outputs": [
    {
     "data": {
      "text/plain": [
       "76"
      ]
     },
     "execution_count": 3,
     "metadata": {},
     "output_type": "execute_result"
    }
   ],
   "source": [
    "# finding longest sentence for padding \n",
    "longest_sentence = 0\n",
    "\n",
    "for (i, data) in enumerate(train_dataloader):\n",
    "    targets = data[\"target\"]\n",
    "    token_ids = data[\"token_ids\"]\n",
    "    \n",
    "    for token in token_ids:\n",
    "        if len(token) > longest_sentence:\n",
    "            longest_sentence = len(token)\n",
    "longest_sentence "
   ]
  },
  {
   "cell_type": "code",
   "execution_count": 4,
   "id": "7eb248ae-a23b-49d7-87a7-56e06f333edf",
   "metadata": {},
   "outputs": [],
   "source": [
    "class LSTMModel(nn.Module):\n",
    "    def __init__(self, embedding_dim, hidden_dim, vocab_size, label_size, batch_size):\n",
    "        super(LSTMModel, self).__init__() \n",
    "        self.word_embeddings = nn.Embedding(vocab_size, embedding_dim, padding_idx=1)\n",
    "        self.lstm = nn.LSTM(embedding_dim, hidden_dim, batch_first=True)\n",
    "        self.hidden2label = nn.Linear(hidden_dim, label_size)\n",
    "\n",
    "    def forward(self, sentence, hidden):\n",
    "        embeds = self.word_embeddings(sentence)\n",
    "        lstm_out, hidden = self.lstm(embeds, hidden)\n",
    "        y  = self.hidden2label(lstm_out)\n",
    "        y = y.mean(axis=1)\n",
    "        return torch.sigmoid(y), hidden"
   ]
  },
  {
   "cell_type": "code",
   "execution_count": 5,
   "id": "eb89855f-1f14-4191-9312-de095443e67e",
   "metadata": {},
   "outputs": [],
   "source": [
    "embedding_dim = 5\n",
    "hidden_dim = 1\n",
    "vocab_size = len(xmlr_vocab)\n",
    "label_size = 1\n",
    "batch_size = 16\n",
    "model = LSTMModel(embedding_dim, hidden_dim, vocab_size, label_size, batch_size).cuda()"
   ]
  },
  {
   "cell_type": "code",
   "execution_count": 6,
   "id": "ffcca245-d306-4b65-9e84-bbc94f2b1add",
   "metadata": {},
   "outputs": [],
   "source": [
    "criterion = torch.nn.BCELoss()"
   ]
  },
  {
   "cell_type": "code",
   "execution_count": 7,
   "id": "800b6d82-f48d-4a08-ad1a-ce9ac39ad31b",
   "metadata": {},
   "outputs": [],
   "source": [
    "test_criterion = torch.nn.BCELoss()"
   ]
  },
  {
   "cell_type": "code",
   "execution_count": 8,
   "id": "77082930-6c8a-4368-a50c-7a966775243c",
   "metadata": {},
   "outputs": [],
   "source": [
    "optimizer = torch.optim.SGD(model.parameters(), lr=0.05, momentum=0.9, weight_decay=0.9)"
   ]
  },
  {
   "cell_type": "markdown",
   "id": "38f3525f-7658-42ac-9cc7-097e8c6e9c8c",
   "metadata": {
    "tags": []
   },
   "source": [
    "### **Problem Description.** Implement **LSTM** with Pytorch to do binary classification.\n",
    "\n",
    "### (a) (15 points) Print the model architecture."
   ]
  },
  {
   "cell_type": "code",
   "execution_count": 9,
   "id": "2b0712a4-0255-451e-b335-f768173180cd",
   "metadata": {},
   "outputs": [
    {
     "data": {
      "text/plain": [
       "LSTMModel(\n",
       "  (word_embeddings): Embedding(250002, 5, padding_idx=1)\n",
       "  (lstm): LSTM(5, 1, batch_first=True)\n",
       "  (hidden2label): Linear(in_features=1, out_features=1, bias=True)\n",
       ")"
      ]
     },
     "execution_count": 9,
     "metadata": {},
     "output_type": "execute_result"
    }
   ],
   "source": [
    "model"
   ]
  },
  {
   "cell_type": "markdown",
   "id": "9baa419c-b49e-40de-8263-0a4a950a7272",
   "metadata": {},
   "source": [
    "### (b) (10 points) Report the hyper-parameters (number of epochs, learning rate, momentum, weight_decay etc)."
   ]
  },
  {
   "cell_type": "markdown",
   "id": "20467469-de03-496f-86d5-5a80a968b413",
   "metadata": {},
   "source": [
    "Number of Epochs: 30\n",
    "\n",
    "Learning Rate: 0.1\n",
    "\n",
    "Momentum: 0.9\n",
    "\n",
    "Weight Decay: 0.9"
   ]
  },
  {
   "cell_type": "code",
   "execution_count": 13,
   "id": "d4adc27f-a7e5-47ca-8e8a-888bc8588554",
   "metadata": {},
   "outputs": [
    {
     "name": "stderr",
     "output_type": "stream",
     "text": [
      "100%|███████████████████████████████████████████| 30/30 [05:45<00:00, 11.50s/it]\n"
     ]
    }
   ],
   "source": [
    "with torch.cuda.device(0):\n",
    "    num_epochs = 30\n",
    "\n",
    "    avg_losses = list()\n",
    "    \n",
    "    hidden0 =(Variable(torch.randn(1, batch_size, hidden_dim)).cuda(),\n",
    "                Variable(torch.randn(1, batch_size, hidden_dim)).cuda())\n",
    "    \n",
    "    hidden_t = None\n",
    "\n",
    "    for epoch in tqdm(range(num_epochs)):\n",
    "        batch_losses = list()\n",
    "        test_losses = list()\n",
    "        for (i, data) in enumerate(test_dataloader):\n",
    "            targets = data[\"target\"]\n",
    "            token_ids = data[\"token_ids\"]\n",
    "            \n",
    "            if len(token_ids) != 16:\n",
    "                continue\n",
    "            \n",
    "            for token in token_ids:\n",
    "                while len(token) != 76:\n",
    "                    token.append(1)\n",
    "            \n",
    "            targets = torch.tensor(targets, dtype=torch.int32).cuda()\n",
    "            token_ids = torch.tensor(token_ids, dtype=torch.int32).cuda()\n",
    "            \n",
    "            prediction, hidden = model.forward(token_ids, hidden_t)\n",
    "            \n",
    "            batch_loss = test_criterion(prediction, targets.reshape(-1,1).to(torch.float32))\n",
    "            \n",
    "            test_losses.append(batch_loss.detach().cpu().numpy())\n",
    "            \n",
    "        for (i, data) in enumerate(train_dataloader):\n",
    "            targets = data[\"target\"]\n",
    "            token_ids = data[\"token_ids\"]\n",
    "            \n",
    "            if len(token_ids) != 16:\n",
    "                continue\n",
    "            \n",
    "            for token in token_ids:\n",
    "                while len(token) != 76:\n",
    "                    token.append(1)\n",
    "            \n",
    "            targets = torch.tensor(targets, dtype=torch.int32).cuda()\n",
    "            token_ids = torch.tensor(token_ids, dtype=torch.int32).cuda()\n",
    "\n",
    "            optimizer.zero_grad()\n",
    "            \n",
    "            if hidden_t == None:\n",
    "                hidden_t = hidden0\n",
    "                \n",
    "            hidden_t = tuple([each.data for each in hidden_t])\n",
    "            \n",
    "            prediction, hidden = model.forward(token_ids, hidden_t)\n",
    "\n",
    "            batch_loss = criterion(prediction, targets.reshape(-1,1).to(torch.float32))\n",
    "\n",
    "            batch_loss.backward(retain_graph=True)\n",
    "\n",
    "            optimizer.step()\n",
    "\n",
    "            batch_losses.append(batch_loss.detach().cpu().numpy())\n",
    "\n",
    "        avg_epoch_loss = (1 / batch_size) * np.sum(test_losses)\n",
    "        avg_losses.append(avg_epoch_loss)"
   ]
  },
  {
   "cell_type": "markdown",
   "id": "fcdd1134-8a96-4b50-be0f-cea8f1be4037",
   "metadata": {},
   "source": [
    "### (c) (60 points) Report the **Average Test Loss** after every training epoch by generating Average Test Loss vs. Epoch plot. Please report at least **10** epochs. Note that **Average Test Loss** is based on the test set."
   ]
  },
  {
   "cell_type": "code",
   "execution_count": 14,
   "id": "7c906896-7bb8-4622-b8f9-4acae8545e6a",
   "metadata": {},
   "outputs": [],
   "source": [
    "from matplotlib import pyplot as plt"
   ]
  },
  {
   "cell_type": "code",
   "execution_count": 15,
   "id": "94a61eb2-ea47-4671-84a6-a1e37b634ead",
   "metadata": {},
   "outputs": [
    {
     "data": {
      "text/plain": [
       "Text(0, 0.5, 'Average Test Loss')"
      ]
     },
     "execution_count": 15,
     "metadata": {},
     "output_type": "execute_result"
    },
    {
     "data": {
      "image/png": "[encoded data removed]",
      "text/plain": [
       "<Figure size 640x480 with 1 Axes>"
      ]
     },
     "metadata": {},
     "output_type": "display_data"
    }
   ],
   "source": [
    "plt.plot(avg_losses)\n",
    "plt.xlabel(\"Epoch\")\n",
    "plt.ylabel(\"Average Test Loss\")"
   ]
  },
  {
   "cell_type": "markdown",
   "id": "731ed867-997a-406e-a3fb-cbcf8e22747f",
   "metadata": {},
   "source": [
    "### (d) (15 points) Report the final testing accuracy of trained model."
   ]
  },
  {
   "cell_type": "code",
   "execution_count": 58,
   "id": "a202ede5-387c-4719-8bc9-72df7ffa6f33",
   "metadata": {},
   "outputs": [
    {
     "data": {
      "text/plain": [
       "0.5"
      ]
     },
     "execution_count": 58,
     "metadata": {},
     "output_type": "execute_result"
    }
   ],
   "source": [
    "with torch.cuda.device(0):\n",
    "    correct = 0\n",
    "\n",
    "    for (i, data) in enumerate(test_dataloader):\n",
    "        targets = data[\"target\"]\n",
    "        token_ids = data[\"token_ids\"]\n",
    "    \n",
    "        if len(token_ids) != 16:\n",
    "            continue\n",
    "            \n",
    "        for token in token_ids:\n",
    "            while len(token) != 76:\n",
    "                token.append(1)\n",
    "            \n",
    "        token_ids = torch.tensor(token_ids, dtype=torch.int32).cuda()\n",
    "\n",
    "        outputs = model.forward(token_ids, hidden_t)[0].round()\n",
    "        outputs = outputs.detach().cpu().numpy().astype(int).ravel()\n",
    "\n",
    "        labels = targets\n",
    "\n",
    "        for output, label in zip(outputs, labels):\n",
    "            if output == label:\n",
    "                correct += 1\n",
    "\n",
    "    accuracy = correct / 880\n",
    "accuracy"
   ]
  }
 ],
 "metadata": {
  "kernelspec": {
   "display_name": "Python 3 (ipykernel)",
   "language": "python",
   "name": "python3"
  },
  "language_info": {
   "codemirror_mode": {
    "name": "ipython",
    "version": 3
   },
   "file_extension": ".py",
   "mimetype": "text/x-python",
   "name": "python",
   "nbconvert_exporter": "python",
   "pygments_lexer": "ipython3",
   "version": "3.9.2"
  }
 },
 "nbformat": 4,
 "nbformat_minor": 5
}
